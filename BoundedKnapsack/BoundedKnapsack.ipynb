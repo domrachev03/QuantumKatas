{
 "cells": [
  {
   "cell_type": "markdown",
   "metadata": {},
   "source": [
    "# Bounded Knapsack\n",
    "\n",
    "The Bounded Knapsack quantum kata is a series of exercises designed to teach you to use Grover search to solve the knapsack problem. \n",
    "\n",
    "* Learn more about the knapsack problem in the [Wikipedia article](https://en.wikipedia.org/wiki/Knapsack_problem).\n",
    "* [SolveSATWithGrover](./../SolveSATWithGrover/SolveSATWithGrover.ipynb) and [GraphColoring](./../GraphColoring/GraphColoring.ipynb) are the other katas covering oracle implementation for solving constraint satisfaction problems. This kata is more challenging, so you might want to try these two first.\n",
    "\n",
    "The kata covers the following topics:\n",
    " - writing operations to perform arithmetic tasks.\n",
    " - writing oracles to implement constraints based on:\n",
    "  - the 0-1 knapsack problem, a simple version of the knapsack problem;\n",
    "  - the bounded knapsack problem.\n",
    " - using the oracle with Grover's algorithm to solve the knapsack decision problem.\n",
    " - using Grover's algorithm repeatedly to solve the knapsack optimization problem.\n",
    "\n",
    "Each task is wrapped in one operation preceded by the description of the task.\n",
    "Your goal is to fill in the blank (marked with the `// ...` comments)\n",
    "with some Q# code that solves the task. To verify your answer, run the cell using Ctrl+Enter (⌘+Enter on macOS).\n",
    "\n",
    "Within each section, tasks are given in approximate order of increasing difficulty."
   ]
  },
  {
   "cell_type": "markdown",
   "metadata": {},
   "source": [
    "## Part I. 0-1 Knapsack Problem\n",
    "\n",
    "You are given $n$ items, indexed $0$ to $n-1$. The item with index $i$ has a weight of $w_i$ and yields a profit of $p_i$. In the original 0-1 knapsack decision problem, we wish to determine whether we can put a subset of items in a knapsack to get a total profit of at least $P$, while not exceeding a maximum weight $W$.\n",
    "\n",
    "However, we will slightly modify the problem: the total profit must be *strictly greater than* $P$, rather than at least $P$.\n",
    "\n",
    "In the following tasks you will implement an oracle that evaluates whether a particular register of $n$ qubits, representing an item combination, satisfies the described conditions."
   ]
  },
  {
   "cell_type": "markdown",
   "metadata": {},
   "source": [
    "### Task 1.1. Read combination from a register\n",
    "\n",
    "**Input:** An array of $n$ qubits, which are guaranteed to be in one of the $2^n$ basis states.  \n",
    "\n",
    "**Output:** The item combination that this state represents, expressed as a boolean array of length $n$. The $i$-th element of the array should be `true` (indicating that $i$-th item is selected) if and only if the $i$-th qubit of the register is in the $|1\\rangle$ state. The operation should not change the state of the qubits.\n",
    "     \n",
    "**Example:** For $n = 3$ and the qubits state $|101\\rangle$, return `[true, false, true]`."
   ]
  },
  {
   "cell_type": "code",
   "execution_count": 42,
   "metadata": {},
   "outputs": [
    {
     "data": {
      "application/x-qsharp-data": "\"Success!\"",
      "text/plain": [
       "Success!"
      ]
     },
     "execution_count": 42,
     "metadata": {},
     "output_type": "execute_result"
    }
   ],
   "source": [
    "%kata T11_MeasureCombination01\n",
    "\n",
    "open Microsoft.Quantum.Measurement;\n",
    "open Microsoft.Quantum.Convert;\n",
    "\n",
    "operation MeasureCombination01 (selectedItems : Qubit[]) : Bool[] {\n",
    "    return ResultArrayAsBoolArray(MultiM(selectedItems));\n",
    "}"
   ]
  },
  {
   "cell_type": "markdown",
   "metadata": {},
   "source": [
    "### Task 1.2. Calculate the number of (qu)bits necessary to hold the maximum total value\n",
    "\n",
    "**Input:** An array of $n$ positive integers, describing the value (the weight or the profit) of each item.\n",
    "\n",
    "**Output:** The minimum number of (qu)bits needed to store the maximum total value of the items.\n",
    "\n",
    "**Example:** For $n = 4$ and `itemValues = [1, 2, 3, 4]`, the maximum total value is $10$, which requires at least $4$ qubits to store it, so $4$ is returned."
   ]
  },
  {
   "cell_type": "code",
   "execution_count": 43,
   "metadata": {},
   "outputs": [
    {
     "data": {
      "application/x-qsharp-data": "\"Success!\"",
      "text/plain": [
       "Success!"
      ]
     },
     "execution_count": 43,
     "metadata": {},
     "output_type": "execute_result"
    }
   ],
   "source": [
    "%kata T12_NumBitsTotalValue01\n",
    "\n",
    "open Microsoft.Quantum.Math;\n",
    "\n",
    "function NumBitsTotalValue01 (itemValues : Int[]) : Int {\n",
    "    mutable sum = 0;\n",
    "    for elem in itemValues {\n",
    "        set sum += elem;\n",
    "    }\n",
    "    // Adding +1, since we need to round numbers in a bit special way    \n",
    "    return Ceiling(Lg(IntAsDouble(sum)+1.0));\n",
    "}"
   ]
  },
  {
   "cell_type": "markdown",
   "metadata": {},
   "source": [
    "### Task 1.3. Calculate the total value of selected items\n",
    "\n",
    "**Inputs:**\n",
    "     1) An array of $n$ integers, describing the values (the weights or the profits) of the items.\n",
    "     2) An array of $n$ qubits, describing whether each item is put into the knapsack.\n",
    "     3) An array of qubits `total` in the $|0...0\\rangle$ state to store the total value of the selected items. \n",
    "It is guaranteed that there are enough qubits to store the total value.\n",
    "\n",
    "**Goal:** Transform the `total` array to represent, in little-endian format, the sum of the values of the items that are put in the knapsack. The input qubits can be in a superposition state. Leave the qubits in selectedItems in the same state they started in.\n",
    "\n",
    "**Example:** For $n = 4$ and `itemValues = [1, 2, 3, 4]`, the input state $|1001\\rangle|0000\\rangle$ should be transformed to $|1001\\rangle|1010\\rangle$, since items $0$ and $3$ are put in the knapsack, and `itemValues[0] + itemValues[3] = 1 + 4 = 5 = 1010₂`."
   ]
  },
  {
   "cell_type": "code",
   "execution_count": 44,
   "metadata": {},
   "outputs": [
    {
     "data": {
      "application/x-qsharp-data": "[\"RippleCarryAdderInPlace\"]",
      "text/html": [
       "<ul><li>RippleCarryAdderInPlace</li></ul>"
      ],
      "text/plain": [
       "RippleCarryAdderInPlace"
      ]
     },
     "execution_count": 44,
     "metadata": {},
     "output_type": "execute_result"
    }
   ],
   "source": [
    "operation RippleCarryAdderInPlace(a : Qubit[], b : Qubit []) : Unit is Adj+Ctl {\n",
    "    // Implements a += b\n",
    "    \n",
    "    // N <= K\n",
    "    let N = Length(b);\n",
    "    let K = Length(a);\n",
    "\n",
    "    use carries = Qubit[K];\n",
    "    \n",
    "    // First case is the special, since there is no lower digit\n",
    "    CCNOT(a[0], b[0], carries[0]);\n",
    "    \n",
    "    // For all the digits of b\n",
    "    for i in 1..N-1 {\n",
    "        CCNOT(a[i], b[i], carries[i]);\n",
    "        CCNOT(a[i], carries[i-1], carries[i]);\n",
    "        CCNOT(b[i], carries[i-1], carries[i]);\n",
    "    }\n",
    "    // For the rest digits in a\n",
    "    for i in N..K-1 {\n",
    "        CCNOT(a[i], carries[i-1], carries[i]);\n",
    "    }\n",
    "    \n",
    "    // Qubit carries[K-1] has to be 0, otherwise the task is broken \n",
    "    // Starting reverse process: applying sum to the a:\n",
    "    CNOT(carries[K-2], a[K-1]);\n",
    "    \n",
    "    // Summing carries with a in a higher digits\n",
    "    for i in K-2..-1..N {\n",
    "        // Reverse operation for used qubit\n",
    "        CCNOT(a[i], carries[i-1], carries[i]);\n",
    "        \n",
    "        // Module 2 sum\n",
    "        CNOT(carries[i-1], a[i]);\n",
    "    }\n",
    "    // Applying sum with number b and carries\n",
    "    for i in N-1..-1..1 {\n",
    "        // Reverse operation for used qubit\n",
    "        CCNOT(a[i], b[i], carries[i]);\n",
    "        CCNOT(a[i], carries[i-1], carries[i]);\n",
    "        CCNOT(b[i], carries[i-1], carries[i]);\n",
    "        \n",
    "        // Module 2 sum\n",
    "        CNOT(b[i], a[i]);\n",
    "        CNOT(carries[i-1], a[i]);\n",
    "    }\n",
    "    \n",
    "    // First case is the special\n",
    "    CCNOT(a[0], b[0], carries[0]);\n",
    "    CNOT(b[0], a[0]);\n",
    "}"
   ]
  },
  {
   "cell_type": "code",
   "execution_count": 45,
   "metadata": {},
   "outputs": [
    {
     "data": {
      "application/x-qsharp-data": "\"Success!\"",
      "text/plain": [
       "Success!"
      ]
     },
     "execution_count": 45,
     "metadata": {},
     "output_type": "execute_result"
    }
   ],
   "source": [
    "%kata T13_CalculateTotalValueOfSelectedItems01\n",
    "\n",
    "open Microsoft.Quantum.Math;\n",
    "open Microsoft.Quantum.Arrays;\n",
    "open Microsoft.Quantum.Diagnostics;\n",
    "\n",
    "operation CalculateTotalValueOfSelectedItems01 (\n",
    "    itemValues : Int[], \n",
    "    selectedItems : Qubit[], \n",
    "    total : Qubit[]\n",
    ") : Unit is Adj+Ctl {\n",
    "    use extraQ = Qubit();\n",
    "    \n",
    "    for i in IndexRange(itemValues) {\n",
    "        let itemValue = itemValues[i];\n",
    "        let hmBits = Ceiling(Lg(IntAsDouble(itemValue)+1.0));\n",
    "        use num = Qubit[hmBits];\n",
    "        \n",
    "        within {\n",
    "            for k in 0..hmBits-1 {\n",
    "                if (itemValue / 2^k % 2 == 1) {\n",
    "                    X(num[k]);\n",
    "                }\n",
    "            }\n",
    "        } apply {\n",
    "            Controlled RippleCarryAdderInPlace([selectedItems[i]], (total + [extraQ], num));\n",
    "            \n",
    "        }\n",
    "    }\n",
    "    // if algo works correctly and the task conditions met, extraQ is always 0\n",
    "}"
   ]
  },
  {
   "cell_type": "markdown",
   "metadata": {},
   "source": [
    "### Task 1.4. Compare an integer stored in a qubit array with an integer (>)\n",
    "\n",
    "**Inputs:**\n",
    "1. An array of `D` qubits representing an integer in little-endian format.\n",
    "2. An integer $b$ ($0 \\le b \\le 2^D - 1$).\n",
    "3. A qubit in an arbitrary state (target qubit).\n",
    "     \n",
    "**Goal:** Flip the state of the target qubit if the integer represented by the qubit array is greater than $b$. The input qubits can be in superposition. Leave the qubits in the qubit array in the same state they started in.\n",
    "\n",
    "**Example:** For $b = 11$, the input state $|1011\\rangle|0\\rangle$ should be transformed to $|1011\\rangle|1\\rangle$, since $1101_2 = 13_{10} > 11_{10}$."
   ]
  },
  {
   "cell_type": "code",
   "execution_count": 46,
   "metadata": {},
   "outputs": [
    {
     "data": {
      "application/x-qsharp-data": "\"Success!\"",
      "text/plain": [
       "Success!"
      ]
     },
     "execution_count": 46,
     "metadata": {},
     "output_type": "execute_result"
    }
   ],
   "source": [
    "%kata T14_CompareQubitArrayGreaterThanInt\n",
    "\n",
    "open Microsoft.Quantum.Math;\n",
    "open Microsoft.Quantum.Arrays;\n",
    "open Microsoft.Quantum.Arithmetic;\n",
    "\n",
    "operation CompareQubitArrayGreaterThanInt (qs : Qubit[], b : Int, target : Qubit) : Unit is Adj+Ctl {\n",
    "    let D = Length(qs);\n",
    "    let N = Ceiling(Lg(IntAsDouble(b)+1.0));\n",
    "    \n",
    "    use q = Qubit[D];\n",
    "    within {\n",
    "        for i in 0..N-1 {\n",
    "            if b / 2^i % 2 == 1 {\n",
    "                X(q[i]);\n",
    "            }\n",
    "        }\n",
    "    }\n",
    "    apply {\n",
    "        GreaterThan(LittleEndian(qs), LittleEndian(q), target);\n",
    "    }\n",
    "    \n",
    "}"
   ]
  },
  {
   "cell_type": "markdown",
   "metadata": {},
   "source": [
    "### Task 1.5. Compare an integer stored in a qubit array with an integer (≤)\n",
    "\n",
    "**Inputs:**\n",
    "1. An array of D qubits representing an integer in little-endian format.\n",
    "2. An integer $b$ ($0 \\le b \\le 2^D - 1$).\n",
    "3. A qubit in an arbitrary state (target qubit).\n",
    "\n",
    "**Goal:** Flip the state of the target qubit if the integer represented by the qubit array is less than or equal to $b$. The input qubits can be in superposition. Leave the qubits in the qubit array in the same state they started in.\n",
    "\n",
    "**Example:** For `b = 7`, the input state $|1010\\rangle|0\\rangle$ should be transformed to $|1010\\rangle|1\\rangle$, since $0101_2 = 5_{10} ≤ 7_{10}$."
   ]
  },
  {
   "cell_type": "code",
   "execution_count": null,
   "metadata": {},
   "outputs": [
    {
     "data": {
      "application/x-qsharp-data": "\"Success!\"",
      "text/plain": [
       "Success!"
      ]
     },
     "execution_count": 47,
     "metadata": {},
     "output_type": "execute_result"
    }
   ],
   "source": [
    "%kata T15_CompareQubitArrayLeqThanInt\n",
    "\n",
    "operation CompareQubitArrayLeqThanInt (qs : Qubit[], b : Int, target : Qubit) : Unit is Adj+Ctl {\n",
    "    CompareQubitArrayGreaterThanInt(qs, b, target);\n",
    "    X(target);\n",
    "}"
   ]
  },
  {
   "cell_type": "markdown",
   "metadata": {},
   "source": [
    "### Task 1.6. Verify that the total weight doesn't exceed the limit $W$\n",
    "**Inputs:**\n",
    "1. An integer $W$, the maximum weight the knapsack can hold.\n",
    "2. An array of $n$ integers, describing the weights of the items: `itemWeights[i] = wᵢ`.\n",
    "3. An array of $n$ qubits, describing whether each item is put into the knapsack.\n",
    "4. A qubit in an arbitrary state (target qubit).\n",
    "\n",
    "**Goal:** Flip the state of the target qubit if the total weight is less than or equal to $W$. The input qubits can be in superposition. Leave the qubits in the qubit array in the same state they started in."
   ]
  },
  {
   "cell_type": "code",
   "execution_count": 48,
   "metadata": {},
   "outputs": [
    {
     "data": {
      "application/x-qsharp-data": "\"Success!\"",
      "text/plain": [
       "Success!"
      ]
     },
     "execution_count": 48,
     "metadata": {},
     "output_type": "execute_result"
    }
   ],
   "source": [
    "%kata T16_VerifyTotalWeight01\n",
    "\n",
    "operation VerifyTotalWeight01 (W : Int, itemWeights : Int[], selectedItems : Qubit[], target : Qubit) : Unit is Adj+Ctl {\n",
    "    use q = Qubit[NumBitsTotalValue01(itemWeights)];\n",
    "    within {\n",
    "        CalculateTotalValueOfSelectedItems01(itemWeights, selectedItems, q);\n",
    "    }\n",
    "    apply {\n",
    "        CompareQubitArrayLeqThanInt(q, W, target);\n",
    "    }\n",
    "}"
   ]
  },
  {
   "cell_type": "markdown",
   "metadata": {},
   "source": [
    "### Task 1.7. Verify that the total profit exceeds the threshold $P$\n",
    "**Inputs:**\n",
    "1. An integer $P$, the threshold which the total profit must exceed.\n",
    "2. An array of $n$ integers, describing the profits of the items: `itemProfits[i] = pᵢ`.\n",
    "3. An array of $n$ qubits, describing whether each item is put into the knapsack.\n",
    "4. A qubit in an arbitrary state (target qubit).\n",
    "\n",
    "**Goal:** Flip the state of the target qubit if the total profit is greater than $P$. The input qubits can be in superposition. Leave the qubits in the qubit array in the same state they started in."
   ]
  },
  {
   "cell_type": "code",
   "execution_count": 8,
   "metadata": {},
   "outputs": [
    {
     "data": {
      "application/x-qsharp-data": "\"Success!\"",
      "text/plain": [
       "Success!"
      ]
     },
     "execution_count": 8,
     "metadata": {},
     "output_type": "execute_result"
    }
   ],
   "source": [
    "%kata T17_VerifyTotalProfit01\n",
    "\n",
    "operation VerifyTotalProfit01 (P : Int, itemProfits : Int[], selectedItems : Qubit[], target : Qubit) : Unit is Adj+Ctl {\n",
    "    use q = Qubit[NumBitsTotalValue01(itemProfits)];\n",
    "    within {\n",
    "        CalculateTotalValueOfSelectedItems01(itemProfits, selectedItems, q);\n",
    "    }\n",
    "    apply {\n",
    "        CompareQubitArrayGreaterThanInt(q, P, target);\n",
    "    }\n",
    "}"
   ]
  },
  {
   "cell_type": "markdown",
   "metadata": {},
   "source": [
    "### Task 1.8. Verify the solution to the 0-1 knapsack problem\n",
    "\n",
    "**Inputs:**\n",
    "1. An integer $W$, the maximum weight the knapsack can hold.\n",
    "2. An integer $P$, the threshold which the total profit must exceed.\n",
    "3. An array of $n$ integers, describing the weights of the items: `itemWeights[i] = wᵢ`.\n",
    "4. An array of $n$ integers, describing the profits of the items: `itemProfits[i] = pᵢ`.\n",
    "5. An array of $n$ qubits, describing whether each item is put into the knapsack.\n",
    "6. A qubit in an arbitrary state (target qubit).\n",
    "\n",
    "**Goal:** Flip the state of the target qubit if the selection of the items in selectedItems satisfies both constraints:\n",
    "* the total weight of all items is less than or equal to $W$, and\n",
    "* the total profit of all items is greater than $P$.\n",
    "\n",
    "The input qubits can be in superposition. Leave the qubits in the qubit array in the same state they started in."
   ]
  },
  {
   "cell_type": "code",
   "execution_count": 9,
   "metadata": {},
   "outputs": [
    {
     "data": {
      "application/x-qsharp-data": "\"Success!\"",
      "text/plain": [
       "Success!"
      ]
     },
     "execution_count": 9,
     "metadata": {},
     "output_type": "execute_result"
    }
   ],
   "source": [
    "%kata T18_VerifyKnapsackProblemSolution01\n",
    "\n",
    "operation VerifyKnapsackProblemSolution01 (\n",
    "    W : Int, P : Int, \n",
    "    itemWeights : Int[], \n",
    "    itemProfits : Int[], \n",
    "    selectedItems : Qubit[], \n",
    "    target : Qubit\n",
    ") : Unit is Adj+Ctl {\n",
    "    use (q1, q2) = (Qubit(), Qubit());\n",
    "    within {\n",
    "        VerifyTotalWeight01(W, itemWeights, selectedItems, q1);\n",
    "        VerifyTotalProfit01(P, itemProfits, selectedItems, q2);\n",
    "    }\n",
    "    apply {\n",
    "        CCNOT(q1, q2, target);\n",
    "    }\n",
    "    \n",
    "}"
   ]
  },
  {
   "cell_type": "markdown",
   "metadata": {},
   "source": [
    "## Part II. Bounded Knapsack Problem\n",
    "\n",
    "In this version of the problem we still consider $n$ items, indexed $0$ to $n-1$, the item with index $i$ has a weight of $w_i$ and yields a profit of $p_i$. \n",
    "But in the bounded knapsack version of the problem, unlike in the 0-1 knapsack problem, each type of item can have more than one copy, and can be selected multiple times. \n",
    "Specifically, there are $b_i$ copies of item type $i$ available, so this item type can be selected between $0$ and $b_i$ times, inclusive.\n",
    "Let $x_i$ represent the number of copies of index $i$ that are put into the knapsack; the constraint $0 ≤ x_i ≤ b_i$ must hold for all $i$. \n",
    "Thus, we seek a combination `xs = [x₀, x₁, ..., xₙ₋₁]` which has total weight at most $W$, and has total profit that is strictly greater than $P$.\n",
    "\n",
    "The comparators from Part I (tasks 1.4-1.5) can be reused, but the operations for calculating total weight and profit will need to be rewritten."
   ]
  },
  {
   "cell_type": "markdown",
   "metadata": {},
   "source": [
    "### Task 2.1. Read combination from a jagged array of qubits\n",
    "\n",
    "**Input:** A jagged array of qubits of length $n$. Array `selectedItemCounts[i]` represents the binary notation of $x_i$ in little-endian format. Each qubit is guaranteed to be in one of the basis states ($|0\\rangle$ or $|1\\rangle$).\n",
    "\n",
    "**Output:** An integer array of length $n$, containing the combination that this jagged array represents. The $i$-th element of the output array should have value $x_i$. The operation should not change the state of the qubits.\n",
    "\n",
    "**Example:** For state `selectedItemCounts = [|101⟩, |1110⟩, |0100⟩]`, return `[5, 7, 2]`."
   ]
  },
  {
   "cell_type": "code",
   "execution_count": 14,
   "metadata": {},
   "outputs": [
    {
     "data": {
      "application/x-qsharp-data": "\"Success!\"",
      "text/plain": [
       "Success!"
      ]
     },
     "execution_count": 14,
     "metadata": {},
     "output_type": "execute_result"
    }
   ],
   "source": [
    "%kata T21_MeasureCombination\n",
    "\n",
    "open Microsoft.Quantum.Arrays;\n",
    "open Microsoft.Quantum.Measurement;\n",
    "\n",
    "operation MeasureCombination (selectedItemCounts : Qubit[][]) : Int[] {\n",
    "    mutable numbers = [];\n",
    "    \n",
    "    for i in IndexRange(selectedItemCounts) {\n",
    "        set numbers += [MeasureInteger(LittleEndian(selectedItemCounts[i]))];\n",
    "    }\n",
    "    return numbers;\n",
    "}"
   ]
  },
  {
   "cell_type": "markdown",
   "metadata": {},
   "source": [
    "### Task 2.2. Convert an array into a jagged array\n",
    "\n",
    "<span style=\"color:red\"><b>This task is temporarily not available in Notebook format; please use Q# project version of the BoundedKnapsack kata to complete it.</b></span>\n",
    "\n",
    "To simplify access to the register as an array of integers within the oracle, we reorganize the register into several qubit arrays that represent, in little-endian format,  the number of copies of each item type. We can do the same transformation with arrays of other types, for example, arrays of classical bits (boolean or integer) that store binary notations of several integers. To make our code reusable, we can make it type-parameterized.\n",
    "\n",
    "**Inputs:**\n",
    "1. An array of type `T` (`T` could be qubits or classical bits).\n",
    "2. An array of $n$ integers $b_i$.\n",
    "\n",
    "**Output:** A jagged array of n arrays of type `T`. $i$-th element of the return value should have enough bits to represent the integer $b_i$ in binary notation. The length of the input array of `T` is defined to be able to store all integers $b_i$.\n",
    "\n",
    "**Example:** For `b = [6, 15, 13]` and a register of qubits in state $|10111100100\\rangle$, you need to use $3$, $4$, and $4$ bits to represent the integers $b_i$, so you'll return an array of qubit arrays `[|101⟩, |1110⟩, |0100⟩]`."
   ]
  },
  {
   "cell_type": "code",
   "execution_count": 80,
   "metadata": {},
   "outputs": [
    {
     "data": {
      "application/x-qsharp-data": "[\"bitsInRepresentation\"]",
      "text/html": [
       "<ul><li>bitsInRepresentation</li></ul>"
      ],
      "text/plain": [
       "bitsInRepresentation"
      ]
     },
     "execution_count": 80,
     "metadata": {},
     "output_type": "execute_result"
    }
   ],
   "source": [
    "open Microsoft.Quantum.Convert;\n",
    "open Microsoft.Quantum.Math;\n",
    "\n",
    "function bitsInRepresentation(num : Int) : Int {\n",
    "    return Ceiling(Lg(IntAsDouble(num)+1.0));\n",
    "}"
   ]
  },
  {
   "cell_type": "code",
   "execution_count": 16,
   "metadata": {},
   "outputs": [
    {
     "data": {
      "application/x-qsharp-data": "3",
      "text/plain": [
       "3"
      ]
     },
     "execution_count": 16,
     "metadata": {},
     "output_type": "execute_result"
    }
   ],
   "source": [
    "%simulate bitsInRepresentation num=7"
   ]
  },
  {
   "cell_type": "code",
   "execution_count": 81,
   "metadata": {},
   "outputs": [
    {
     "data": {
      "application/x-qsharp-data": "[\"RegisterAsJaggedArray\"]",
      "text/html": [
       "<ul><li>RegisterAsJaggedArray</li></ul>"
      ],
      "text/plain": [
       "RegisterAsJaggedArray"
      ]
     },
     "execution_count": 81,
     "metadata": {},
     "output_type": "execute_result"
    }
   ],
   "source": [
    "open Microsoft.Quantum.Math;\n",
    "open Microsoft.Quantum.Convert;\n",
    "open Microsoft.Quantum.Arrays;\n",
    "\n",
    "function RegisterAsJaggedArray<'T> (array : 'T[], b : Int[]) : 'T[][] {\n",
    "    let bitsInDivision = Mapped(bitsInRepresentation, b);\n",
    "    return Most(Partitioned(bitsInDivision, array));\n",
    "}"
   ]
  },
  {
   "cell_type": "code",
   "execution_count": 88,
   "metadata": {},
   "outputs": [
    {
     "data": {
      "application/x-qsharp-data": "[\"test2_2\"]",
      "text/html": [
       "<ul><li>test2_2</li></ul>"
      ],
      "text/plain": [
       "test2_2"
      ]
     },
     "execution_count": 88,
     "metadata": {},
     "output_type": "execute_result"
    }
   ],
   "source": [
    "function test2_2 () : Unit {\n",
    "    let array=[1,0,0,1,0,0,0,1,0,0,0,0];\n",
    "    let b = [4,8,16];\n",
    "    \n",
    "    let res = RegisterAsJaggedArray(array, b);\n",
    "    \n",
    "    for arr in res {\n",
    "        Message($\"{arr}\");\n",
    "    }\n",
    "}"
   ]
  },
  {
   "cell_type": "code",
   "execution_count": 89,
   "metadata": {},
   "outputs": [
    {
     "name": "stdout",
     "output_type": "stream",
     "text": [
      "[1,0,0]\n",
      "[1,0,0,0]\n",
      "[1,0,0,0,0]\n"
     ]
    },
    {
     "data": {
      "application/x-qsharp-data": "{\"@type\":\"tuple\"}",
      "text/plain": [
       "()"
      ]
     },
     "execution_count": 89,
     "metadata": {},
     "output_type": "execute_result"
    }
   ],
   "source": [
    "%simulate test2_2"
   ]
  },
  {
   "cell_type": "markdown",
   "metadata": {},
   "source": [
    "### Task 2.3. Verification of limits satisfaction\n",
    "\n",
    "**Inputs:**\n",
    "1. An array of $n$ integers `itemCountLimits[i] = bᵢ`.\n",
    "2. A jagged array of $n$ qubits. Each array `selectedItemCounts[i]` represents the number of items $x_i$ in little-endian format.\n",
    "3. A qubit in an arbitrary state (target qubit).\n",
    "\n",
    "**Goal:** Flip the state of the target qubit if $x_i ≤ b_i$ for all $i$. The input qubits can be in superposition. Leave the qubits in qubit array in the same state they started in."
   ]
  },
  {
   "cell_type": "code",
   "execution_count": 49,
   "metadata": {},
   "outputs": [
    {
     "data": {
      "application/x-qsharp-data": "\"Success!\"",
      "text/plain": [
       "Success!"
      ]
     },
     "execution_count": 49,
     "metadata": {},
     "output_type": "execute_result"
    }
   ],
   "source": [
    "%kata T23_VerifyLimits\n",
    "\n",
    "operation VerifyLimits (itemCountLimits : Int[], selectedItemCounts : Qubit[][], target : Qubit) : Unit is Adj+Ctl {\n",
    "    let N = Length(itemCountLimits);\n",
    "    use q = Qubit[N];\n",
    "    \n",
    "    within {\n",
    "        for i in 0..N-1 {\n",
    "            CompareQubitArrayLeqThanInt (selectedItemCounts[i], itemCountLimits[i], q[i]);\n",
    "        }\n",
    "    } apply {\n",
    "        Controlled X(q, target);\n",
    "    }\n",
    "    \n",
    "}"
   ]
  },
  {
   "cell_type": "markdown",
   "metadata": {},
   "source": [
    "### Task 2.4. Increment a quantum integer by a product of classical and quantum integers\n",
    "\n",
    "**Inputs:**\n",
    "1. An integer $x$.\n",
    "2. An array of $n$ qubits, representing an arbitrary integer $y$.\n",
    "3. An array of $m$ qubits, representing an arbitrary integer $z$.\n",
    "\n",
    "**Goal:** Increment register $z$ by the product of $x$ and $y$. Perform the increment modulo $2^m$ (you don't need to track the carry bit). The input qubits can be in superposition. Leave the qubits in register $y$ in the same state they started in."
   ]
  },
  {
   "cell_type": "code",
   "execution_count": 59,
   "metadata": {},
   "outputs": [
    {
     "data": {
      "application/x-qsharp-data": "\"Success!\"",
      "text/plain": [
       "Success!"
      ]
     },
     "execution_count": 59,
     "metadata": {},
     "output_type": "execute_result"
    }
   ],
   "source": [
    "%kata T24_IncrementByProduct\n",
    "\n",
    "operation IncrementByProduct (x : Int, y : Qubit[], z : Qubit[]) : Unit is Adj+Ctl {\n",
    "    let N = 2^Length(z);\n",
    "    MultiplyAndAddByModularInteger(x, N, LittleEndian(y), LittleEndian(z));\n",
    "}"
   ]
  },
  {
   "cell_type": "markdown",
   "metadata": {},
   "source": [
    "### Task 2.5. Calculate the number of (qu)bits necessary to hold the maximum total value\n",
    "\n",
    "**Inputs:**\n",
    "1. An array of $n$ positive integers, describing the value (the weight or the profit) of each item.\n",
    "2. An array of $n$ positive integers, describing the $b_i$ - the limits on the maximum number of items of type $i$ that can be selected.\n",
    "\n",
    "**Output:** The minimum number of (qu)bits needed to store the maximum total value of the items.\n",
    "\n",
    "**Example:** For `n = 4`, `itemValues = [1, 2, 3, 4]`, and `itemCountLimits = [2, 5, 4, 3]`, the maximum possible total value is  $1 \\cdot 2 + 2 \\cdot 5 + 3 \\cdot 4 + 4 \\cdot 3 = 36$, which requires at least $6$ qubits, so $6$ is returned."
   ]
  },
  {
   "cell_type": "code",
   "execution_count": 60,
   "metadata": {},
   "outputs": [
    {
     "data": {
      "application/x-qsharp-data": "[\"bitsInRepresentation\",\"arraySum\"]",
      "text/html": [
       "<ul><li>bitsInRepresentation</li><li>arraySum</li></ul>"
      ],
      "text/plain": [
       "bitsInRepresentation, arraySum"
      ]
     },
     "execution_count": 60,
     "metadata": {},
     "output_type": "execute_result"
    }
   ],
   "source": [
    "open Microsoft.Quantum.Convert;\n",
    "open Microsoft.Quantum.Math;\n",
    "\n",
    "function bitsInRepresentation(num : Int) : Int {\n",
    "    return Ceiling(Lg(IntAsDouble(num)+1.0));\n",
    "}"
   ]
  },
  {
   "cell_type": "code",
   "execution_count": 62,
   "metadata": {},
   "outputs": [
    {
     "data": {
      "application/x-qsharp-data": "\"Success!\"",
      "text/plain": [
       "Success!"
      ]
     },
     "execution_count": 62,
     "metadata": {},
     "output_type": "execute_result"
    }
   ],
   "source": [
    "%kata T25_NumBitsTotalValue\n",
    "\n",
    "function NumBitsTotalValue (itemValues : Int[], itemCountLimits : Int[]) : Int {\n",
    "    let N = Length(itemValues);\n",
    "    mutable sum = 0;\n",
    "    \n",
    "    for i in 0..N-1 {\n",
    "        set sum += itemValues[i]*itemCountLimits[i];\n",
    "    }\n",
    "    \n",
    "    return bitsInRepresentation(sum);\n",
    "}"
   ]
  },
  {
   "cell_type": "markdown",
   "metadata": {},
   "source": [
    "### Task 2.6. Calculate total value of selected items\n",
    "\n",
    "**Inputs:**\n",
    "1. An array of $n$ integers, describing the values (the weights or the profits) of the items.\n",
    "2. A jagged array of qubits of length $n$. Array `selectedItems[i]` represents the number of items of type $i x_i$ in little-endian format.\n",
    "3. An array of qubits `total` in the $|0...0\\rangle$ state to store the total value of the selected items. It is guaranteed that there are enough qubits to store the total value.\n",
    "\n",
    "**Goal:** Transform the `total` array to represent, in little-endian format, the sum of the values of the items that are put in the knapsack. The input qubits can be in a superposition state. Leave the qubits in `selectedCounts` in the same state they started in."
   ]
  },
  {
   "cell_type": "code",
   "execution_count": 63,
   "metadata": {},
   "outputs": [
    {
     "data": {
      "application/x-qsharp-data": "\"Success!\"",
      "text/plain": [
       "Success!"
      ]
     },
     "execution_count": 63,
     "metadata": {},
     "output_type": "execute_result"
    }
   ],
   "source": [
    "%kata T26_CalculateTotalValueOfSelectedItems\n",
    "\n",
    "open Microsoft.Quantum.Arrays;\n",
    "\n",
    "operation CalculateTotalValueOfSelectedItems (\n",
    "    itemValues : Int[], \n",
    "    selectedCounts : Qubit[][], \n",
    "    total : Qubit[]\n",
    ") : Unit is Adj+Ctl {\n",
    "    for i in IndexRange(itemValues) {\n",
    "        IncrementByProduct(itemValues[i], selectedCounts[i], total);\n",
    "    }\n",
    "}"
   ]
  },
  {
   "cell_type": "markdown",
   "metadata": {},
   "source": [
    "### Task 2.7. Verify that the total weight doesn't exceed the limit $W$\n",
    "\n",
    "**Inputs:**\n",
    "1. An integer $W$, the maximum weight the knapsack can hold.\n",
    "2. An array of $n$ integers, describing the weights of the items: `itemWeights[i] = wᵢ`.\n",
    "3. An array of $n$ positive integers, describing the $b_i$ - the limits on the maximum number of items of type $i$ that can be selected.\n",
    "4. A jagged array of qubits, describing the number of each item type put into the knapsack. Array `selectedCounts[i]` represents $x_i$ in little-endian format.\n",
    "5. A qubit in an arbitrary state (target qubit).\n",
    "\n",
    "**Goal:** Flip the state of the target qubit if the total weight is less than or equal to $W$. The input qubits can be in superposition. Leave the qubits in the `selectedCounts` array in the same state they started in."
   ]
  },
  {
   "cell_type": "code",
   "execution_count": 71,
   "metadata": {},
   "outputs": [
    {
     "data": {
      "application/x-qsharp-data": "\"Success!\"",
      "text/plain": [
       "Success!"
      ]
     },
     "execution_count": 71,
     "metadata": {},
     "output_type": "execute_result"
    }
   ],
   "source": [
    "%kata T27_VerifyTotalWeight\n",
    "\n",
    "operation VerifyTotalWeight (\n",
    "    W : Int, \n",
    "    itemWeights : Int[], \n",
    "    itemCountLimits : Int[], \n",
    "    selectedCounts : Qubit[][], \n",
    "    target : Qubit\n",
    ") : Unit is Adj+Ctl {\n",
    "    use q = Qubit[NumBitsTotalValue(itemWeights, itemCountLimits)];\n",
    "    within {\n",
    "        CalculateTotalValueOfSelectedItems(itemWeights, selectedCounts, q);\n",
    "    } apply {\n",
    "        CompareQubitArrayLeqThanInt(q, W, target);\n",
    "    }\n",
    "}"
   ]
  },
  {
   "cell_type": "markdown",
   "metadata": {},
   "source": [
    "### Task 2.8. Verify that the total profit exceeds threshold $P$\n",
    "\n",
    "**Inputs:**\n",
    "1. An integer $P$, the threshold which the total profit must exceed.\n",
    "2. An array of $n$ integers, describing the profits of the items: `itemProfits[i] = pᵢ`.\n",
    "3. An array of $n$ positive integers, describing the $b_i$ - the limits on the maximum number of items of type $i$ that can be selected.\n",
    "4. A jagged array of qubits, describing the number of each item type put into the knapsack. Array `selectedCounts[i]` represents $x_i$ in little-endian format.\n",
    "5. A qubit in an arbitrary state (target qubit).\n",
    "\n",
    "**Goal:** Flip the state of the target qubit if the total profit is greater than $P$. The input qubits can be in superposition. Leave the qubits in the `selectedCounts` array in the same state they started in."
   ]
  },
  {
   "cell_type": "code",
   "execution_count": 73,
   "metadata": {},
   "outputs": [
    {
     "data": {
      "application/x-qsharp-data": "\"Success!\"",
      "text/plain": [
       "Success!"
      ]
     },
     "execution_count": 73,
     "metadata": {},
     "output_type": "execute_result"
    }
   ],
   "source": [
    "%kata T28_VerifyTotalProfit\n",
    "\n",
    "operation VerifyTotalProfit (\n",
    "    P : Int, \n",
    "    itemProfits : Int[], \n",
    "    itemCountLimits : Int[], \n",
    "    selectedCounts : Qubit[][], \n",
    "    target : Qubit\n",
    ") : Unit is Adj+Ctl {\n",
    "    use q = Qubit[NumBitsTotalValue(itemProfits, itemCountLimits)];\n",
    "    within {\n",
    "        CalculateTotalValueOfSelectedItems(itemProfits, selectedCounts, q);\n",
    "    } apply {\n",
    "        CompareQubitArrayGreaterThanInt(q, P, target);\n",
    "    }\n",
    "}"
   ]
  },
  {
   "cell_type": "markdown",
   "metadata": {},
   "source": [
    "### Task 2.9. Verify the solution to the bounded knapsack problem\n",
    "\n",
    "**Inputs:**\n",
    "1. An integer $W$, the maximum weight the knapsack can hold.\n",
    "2. An integer $P$, the threshold which the total profit must exceed.\n",
    "3. An array of $n$ integers, describing the weights of the items: `itemWeights[i] = wᵢ`.\n",
    "4. An array of $n$ integers, describing the profits of the items: `itemProfits[i] = pᵢ`.\n",
    "5. An array of $n$ integers, describing the maximum numbers of each type of item that can be selected: `itemCountLimits[i] = bᵢ`.\n",
    "6. An array of $Q$ qubits, describing the numbers of each type of item selected for the knapsack. ($Q$ is the minimum number of qubits necessary to store a concatenation of the numbers up to $b_i$.)\n",
    "7. A qubit in an arbitrary state (target qubit).\n",
    "\n",
    "**Goal:** Flip the state of the target qubit if the selection of the items in `selectedCountsRegister` satisfies both constraints:\n",
    "* the total weight of all items is less than or equal to $W$, \n",
    "* the total profit of all items is greater than $P$, and\n",
    "* the number of $i$-th type of item is less than or equal to $b_i$.\n",
    "\n",
    "The input qubits can be in superposition. Leave the qubits in register in the same state they started in."
   ]
  },
  {
   "cell_type": "code",
   "execution_count": 91,
   "metadata": {},
   "outputs": [
    {
     "data": {
      "application/x-qsharp-data": "\"Success!\"",
      "text/plain": [
       "Success!"
      ]
     },
     "execution_count": 91,
     "metadata": {},
     "output_type": "execute_result"
    }
   ],
   "source": [
    "%kata T29_VerifyKnapsackProblemSolution\n",
    "\n",
    "operation VerifyKnapsackProblemSolution (\n",
    "    W : Int, P : Int, \n",
    "    itemWeights : Int[], \n",
    "    itemProfits : Int[], \n",
    "    itemCountLimits : Int[], \n",
    "    selectedCountsRegister : Qubit[], \n",
    "    target : Qubit\n",
    ") : Unit is Adj+Ctl {\n",
    "\n",
    "    use q = Qubit[3];\n",
    "    let selectedCounts = RegisterAsJaggedArray(selectedCountsRegister, itemCountLimits);\n",
    "    \n",
    "    within {\n",
    "        VerifyTotalWeight (W, itemWeights, itemCountLimits, selectedCounts, q[0]);\n",
    "        VerifyTotalProfit (P, itemProfits, itemCountLimits, selectedCounts, q[1]);\n",
    "        VerifyLimits(itemCountLimits, selectedCounts, q[2]);\n",
    "    }\n",
    "    apply {\n",
    "        Controlled X(q, target);\n",
    "    }\n",
    "}"
   ]
  },
  {
   "cell_type": "markdown",
   "metadata": {},
   "source": [
    "## Part III. Using Grover's algorithm for knapsack optimization problems\n",
    "\n",
    "Coming soon..."
   ]
  }
 ],
 "metadata": {
  "kernelspec": {
   "display_name": "Q#",
   "language": "qsharp",
   "name": "iqsharp"
  },
  "language_info": {
   "file_extension": ".qs",
   "mimetype": "text/x-qsharp",
   "name": "qsharp",
   "version": "0.14"
  }
 },
 "nbformat": 4,
 "nbformat_minor": 2
}
