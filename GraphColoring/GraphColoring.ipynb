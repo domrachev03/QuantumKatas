{
 "cells": [
  {
   "cell_type": "markdown",
   "metadata": {},
   "source": [
    "# Graph Coloring\n",
    "\n",
    "The **\"Graph Coloring\"** quantum kata is a series of exercises designed\n",
    "to teach you the basics of using Grover search to solve constraint\n",
    "satisfaction problems, using graph coloring problem as an example.\n",
    "\n",
    "* [This Microsoft Learn module](https://docs.microsoft.com/learn/modules/solve-graph-coloring-problems-grovers-search/) walks you through solving graph coloring problems using Grover's search.\n",
    "* You can read more about graph coloring problems [here](https://en.wikipedia.org/wiki/Graph_coloring).\n",
    "* It is strongly recommended to complete the [Grover's Algorithm kata](./../GroversAlgorithm/GroversAlgorithm.ipynb) before proceeding to this one. You can also refer to its [README.md](./../GroversAlgorithm/README.md) for the list of resources on Grover's algorithm.\n",
    "* [SolveSATWithGrover](./../SolveSATWithGrover/SolveSATWithGrover.ipynb) is another kata covering oracle implementation for solving constraint satisfaction problems.\n",
    "\n",
    "\n",
    "Each task is wrapped in one operation preceded by the description of the task.\n",
    "Your goal is to fill in the blank (marked with the `// ...` comments)\n",
    "with some Q# code that solves the task. To verify your answer, run the cell using Ctrl+Enter (⌘+Enter on macOS).\n",
    "\n",
    "Within each section, tasks are given in approximate order of increasing difficulty; \n",
    "harder ones are marked with asterisks."
   ]
  },
  {
   "cell_type": "markdown",
   "metadata": {},
   "source": [
    "## Part I. Colors Representation and Manipulation"
   ]
  },
  {
   "cell_type": "markdown",
   "metadata": {},
   "source": [
    "### Task 1.1. Initialize register to a color\n",
    "\n",
    "**Inputs:** \n",
    "\n",
    "  1. An integer $C$ ($0 \\leq C \\leq 2^{N} - 1$).\n",
    "\n",
    "  2. An array of $N$ qubits in the $|0...0\\rangle$ state.\n",
    "\n",
    "**Goal:** \n",
    "\n",
    "Prepare the array in the basis state which represents the binary notation of $C$. \n",
    "Use little-endian encoding (i.e., the least significant bit should be stored in the first qubit).\n",
    "\n",
    "**Example:** For $N = 2$ and $C = 2$ the state should be $|01\\rangle$."
   ]
  },
  {
   "cell_type": "code",
   "execution_count": 1,
   "metadata": {},
   "outputs": [
    {
     "data": {
      "application/x-qsharp-data": "\"Success!\"",
      "text/plain": [
       "Success!"
      ]
     },
     "execution_count": 1,
     "metadata": {},
     "output_type": "execute_result"
    }
   ],
   "source": [
    "%kata T11_InitializeColor \n",
    "\n",
    "operation InitializeColor (C : Int, register : Qubit[]) : Unit is Adj {\n",
    "    let N = Length(register);\n",
    "    for i in 0..N-1 {\n",
    "        if (C / 2^i % 2 == 1) {\n",
    "            X(register[i]);\n",
    "        }\n",
    "    }\n",
    "}"
   ]
  },
  {
   "cell_type": "markdown",
   "metadata": {},
   "source": [
    "*Can't come up with a solution? See the explained solution in the [Graph Coloring Workbook](./Workbook_GraphColoring.ipynb#Task-1.1.-Initialize-register-to-a-color).*"
   ]
  },
  {
   "cell_type": "markdown",
   "metadata": {},
   "source": [
    "### Task 1.2. Read color from a register\n",
    "\n",
    "**Input:** An array of $N$ qubits which are guaranteed to be in one of the $2^{N}$ basis states.\n",
    "\n",
    "**Output:** \n",
    "\n",
    "An $N$-bit integer that represents this basis state, in little-endian encoding. \n",
    "The operation should not change the state of the qubits.\n",
    "\n",
    "**Example:** For $N = 2$ and the qubits in the state $|01\\rangle$ return 2 (and keep the qubits in $|01\\rangle$)."
   ]
  },
  {
   "cell_type": "code",
   "execution_count": 2,
   "metadata": {},
   "outputs": [
    {
     "data": {
      "application/x-qsharp-data": "\"Success!\"",
      "text/plain": [
       "Success!"
      ]
     },
     "execution_count": 2,
     "metadata": {},
     "output_type": "execute_result"
    }
   ],
   "source": [
    "%kata T12_MeasureColor \n",
    "\n",
    "open Microsoft.Quantum.Arrays;\n",
    "\n",
    "operation MeasureColor (register : Qubit[]) : Int {\n",
    "    mutable color = 0;\n",
    "    for i in IndexRange(register) {\n",
    "        let qValue = M(register[i]) == Zero ? 0 | 1;\n",
    "        set color += qValue * 2^i;\n",
    "    }\n",
    "    return color;\n",
    "}"
   ]
  },
  {
   "cell_type": "markdown",
   "metadata": {},
   "source": [
    "*Can't come up with a solution? See the explained solution in the [Graph Coloring Workbook](./Workbook_GraphColoring.ipynb#Task-1.2.-Read-color-from-a-register).*"
   ]
  },
  {
   "cell_type": "markdown",
   "metadata": {},
   "source": [
    "### Task 1.3. Read coloring from a register\n",
    "\n",
    "**Inputs:** \n",
    "\n",
    "  1. The number of elements in the coloring $K$.\n",
    "\n",
    "  2. An array of $K * N$ qubits which are guaranteed to be in one of the $2^{KN}$ basis states.\n",
    "\n",
    "**Output:** \n",
    "\n",
    "An array of $K$ $N$-bit integers that represent this basis state. \n",
    "$i$-th integer of the array is stored in qubits with indices $i * N$, $i * N + 1$, ..., $i * N + N - 1$ in little-endian format. \n",
    "The operation should not change the state of the qubits.\n",
    "\n",
    "**Example:** \n",
    "For $N = 2$, $K = 2$ and the qubits in the state $|0110\\rangle$ return `[2, 1]`."
   ]
  },
  {
   "cell_type": "code",
   "execution_count": 3,
   "metadata": {},
   "outputs": [
    {
     "name": "stdout",
     "output_type": "stream",
     "text": [
      "/snippet_.qs(4,22): warning QS3308: Deprecated syntax. Use [] to construct an empty array, or [x, size = n] to construct an array of x repeated n times.\n"
     ]
    },
    {
     "data": {
      "application/x-qsharp-data": "\"Success!\"",
      "text/plain": [
       "Success!"
      ]
     },
     "execution_count": 3,
     "metadata": {},
     "output_type": "execute_result"
    }
   ],
   "source": [
    "%kata T13_MeasureColoring \n",
    "\n",
    "operation MeasureColoring (K : Int, register : Qubit[]) : Int[] {\n",
    "    mutable colors = new Int[0];\n",
    "    let N = Length(register)/K;\n",
    "    \n",
    "    for i in 0..K-1 {\n",
    "        set colors += [MeasureColor(register[i*N..(i+1)*N-1])];\n",
    "    }\n",
    "    \n",
    "    return colors;\n",
    "}"
   ]
  },
  {
   "cell_type": "markdown",
   "metadata": {},
   "source": [
    "*Can't come up with a solution? See the explained solution in the [Graph Coloring Workbook](./Workbook_GraphColoring.ipynb#Task-1.3.-Read-coloring-from-a-register).*"
   ]
  },
  {
   "cell_type": "markdown",
   "metadata": {},
   "source": [
    "### Task 1.4. 2-bit color equality oracle\n",
    "\n",
    "**Inputs:** \n",
    "\n",
    "  1. An array of 2 qubits in an arbitrary state $|c_{0}\\rangle$ representing the first color.\n",
    "\n",
    "  2. An array of 2 qubits in an arbitrary state $|c_{1}\\rangle$ representing the second color.\n",
    "\n",
    "  3. A qubit in an arbitrary state $|y\\rangle$ (target qubit).\n",
    "\n",
    "**Goal:**\n",
    "\n",
    "Transform state $|c_{0}\\rangle|c_{1}\\rangle|y\\rangle$ into state $|c_{0}\\rangle|c_{1}\\rangle|y \\oplus f(c_{0},c_{1})\\rangle$ ($\\oplus$ is addition modulo 2), \n",
    "where $f(x) = 1$ if $c_{0}$ and $c_{1}$ are in the same state, and 0 otherwise. \n",
    "Leave the query register in the same state it started in.\n",
    "\n",
    "In this task you are allowed to allocate extra qubits."
   ]
  },
  {
   "cell_type": "code",
   "execution_count": 4,
   "metadata": {},
   "outputs": [
    {
     "data": {
      "application/x-qsharp-data": "\"Success!\"",
      "text/plain": [
       "Success!"
      ]
     },
     "execution_count": 4,
     "metadata": {},
     "output_type": "execute_result"
    }
   ],
   "source": [
    "%kata T14_ColorEqualityOracle_2bit \n",
    "\n",
    "operation ColorEqualityOracle_2bit (c0 : Qubit[], c1 : Qubit[], target : Qubit) : Unit is Adj+Ctl {\n",
    "    let N = Length(c0);\n",
    "    use q = Qubit[N];\n",
    "    within {\n",
    "        for i in 0..N-1 {\n",
    "            CNOT(c0[i], q[i]);\n",
    "            CNOT(c1[i], q[i]);\n",
    "        }\n",
    "    } apply {\n",
    "        ControlledOnInt(0, X)(q, target);\n",
    "    }\n",
    "}"
   ]
  },
  {
   "cell_type": "markdown",
   "metadata": {},
   "source": [
    "*Can't come up with a solution? See the explained solution in the [Graph Coloring Workbook](./Workbook_GraphColoring.ipynb#Task-1.4.-2-bit-color-equality-oracle).*"
   ]
  },
  {
   "cell_type": "markdown",
   "metadata": {},
   "source": [
    "### Task 1.5. N-bit color equality oracle (no extra qubits)\n",
    "\n",
    "This task is the same as task 1.4, but in this task you are NOT allowed to allocate extra qubits."
   ]
  },
  {
   "cell_type": "code",
   "execution_count": 2,
   "metadata": {},
   "outputs": [
    {
     "data": {
      "application/x-qsharp-data": "\"Success!\"",
      "text/plain": [
       "Success!"
      ]
     },
     "execution_count": 2,
     "metadata": {},
     "output_type": "execute_result"
    }
   ],
   "source": [
    "%kata T15_ColorEqualityOracle_Nbit \n",
    "\n",
    "operation ColorEqualityOracle_Nbit (c0 : Qubit[], c1 : Qubit[], target : Qubit) : Unit is Adj+Ctl {\n",
    "    let N = Length(c0);\n",
    "    within {\n",
    "        for i in 0..N-1 {\n",
    "            CNOT(c0[i], c1[i]);\n",
    "        }\n",
    "    } apply {\n",
    "        ControlledOnInt(0, X)(c1, target);\n",
    "    }\n",
    "}"
   ]
  },
  {
   "cell_type": "markdown",
   "metadata": {},
   "source": [
    "*Can't come up with a solution? See the explained solution in the [Graph Coloring Workbook](./Workbook_GraphColoring.ipynb#Task-1.5.-N-bit-color-equality-oracle-(no-extra-qubits)).*"
   ]
  },
  {
   "cell_type": "markdown",
   "metadata": {},
   "source": [
    "## Part II. Vertex coloring problem\n",
    "The vertex graph coloring is a coloring of graph vertices which \n",
    "labels each vertex with one of the given colors so that \n",
    "no two vertices of the same color are connected by an edge."
   ]
  },
  {
   "cell_type": "markdown",
   "metadata": {},
   "source": [
    "### Task 2.1. Classical verification of vertex coloring\n",
    "\n",
    "**Inputs:** \n",
    "\n",
    "  1. The number of vertices in the graph $V$ ($V \\leq 6$).\n",
    "\n",
    "  2. An array of $E$ tuples of integers, representing the edges of the graph ($E \\leq 12$).  \n",
    "Each tuple gives the indices of the start and the end vertices of the edge.  \n",
    "The vertices are indexed $0$ through $V - 1$.\n",
    "\n",
    "  3. An array of $V$ integers, representing the vertex coloring of the graph. \n",
    "$i$-th element of the array is the color of the vertex number $i$.\n",
    "\n",
    "**Output:** \n",
    "\n",
    "True if the given vertex coloring is valid (i.e., no pair of vertices connected by an edge have the same color), and false otherwise.\n",
    "\n",
    "**Example:** \n",
    "\n",
    "Graph 0 -- 1 -- 2 would have $V = 3$ and `edges = [(0, 1), (1, 2)]`.  \n",
    "Some of the valid colorings for it would be `[0, 1, 0]` and `[-1, 5, 18]`."
   ]
  },
  {
   "cell_type": "code",
   "execution_count": 6,
   "metadata": {},
   "outputs": [
    {
     "data": {
      "application/x-qsharp-data": "\"Success!\"",
      "text/plain": [
       "Success!"
      ]
     },
     "execution_count": 6,
     "metadata": {},
     "output_type": "execute_result"
    }
   ],
   "source": [
    "%kata T21_IsVertexColoringValid \n",
    "\n",
    "function IsVertexColoringValid (V : Int, edges: (Int, Int)[], colors: Int[]) : Bool {\n",
    "    mutable isColoringValid = true;\n",
    "    \n",
    "    for (v1, v2) in edges {\n",
    "        if isColoringValid and colors[v1] == colors[v2] {\n",
    "            set isColoringValid = false;\n",
    "        }\n",
    "    }\n",
    "    \n",
    "    return isColoringValid;\n",
    "}"
   ]
  },
  {
   "cell_type": "markdown",
   "metadata": {},
   "source": [
    "*Can't come up with a solution? See the explained solution in the [Graph Coloring Workbook](./Workbook_GraphColoring.ipynb#Task-2.1.-Classical-verification-of-vertex-coloring).*"
   ]
  },
  {
   "cell_type": "markdown",
   "metadata": {},
   "source": [
    "### Task 2.2. Oracle for verifying vertex coloring\n",
    "\n",
    "**Inputs:**\n",
    "\n",
    "  1. The number of vertices in the graph $V$ ($V \\leq 6$).\n",
    "\n",
    "  2. An array of $E$ tuples of integers, representing the edges of the graph (E $\\leq$ 12).  \n",
    "Each tuple gives the indices of the start and the end vertices of the edge.  \n",
    "The vertices are indexed $0$ through $V - 1$.\n",
    "\n",
    "  3. An array of $2V$ qubits `colorsRegister` that encodes the color assignments.\n",
    "\n",
    "  4. A qubit in an arbitrary state $|y\\rangle$ (target qubit).\n",
    "\n",
    "**Goal:**\n",
    "\n",
    "Transform state $|x, y\\rangle$ into state $|x, y \\oplus f(x)\\rangle$  ($\\oplus$ is addition modulo 2), \n",
    "where $f(x) = 1$ if the given vertex coloring is valid, and 0 otherwise. \n",
    "Leave the query register in the same state it started in.\n",
    "\n",
    "Each color in `colorsRegister` is represented as a 2-bit integer in little-endian format. \n",
    "See task 1.3 for a more detailed description of color assignments."
   ]
  },
  {
   "cell_type": "code",
   "execution_count": 7,
   "metadata": {},
   "outputs": [
    {
     "name": "stdout",
     "output_type": "stream",
     "text": [
      "Testing V = 3, edges = []\n",
      "Testing V = 4, edges = [(0, 1),(0, 2),(0, 3),(1, 2),(1, 3),(2, 3)]\n",
      "Testing V = 5, edges = [(4, 0),(2, 1),(3, 1),(3, 2)]\n",
      "Testing V = 5, edges = [(0, 1),(1, 2),(1, 3),(3, 2),(4, 2),(3, 4)]\n",
      "Testing V = 5, edges = [(0, 1),(0, 2),(0, 4),(1, 2),(1, 3),(2, 3),(2, 4),(3, 4)]\n"
     ]
    },
    {
     "data": {
      "application/x-qsharp-data": "\"Success!\"",
      "text/plain": [
       "Success!"
      ]
     },
     "execution_count": 7,
     "metadata": {},
     "output_type": "execute_result"
    }
   ],
   "source": [
    "%kata T22_VertexColoringOracle \n",
    "\n",
    "operation VertexColoringOracle (V : Int, \n",
    "                                edges : (Int, Int)[], \n",
    "                                colorsRegister : Qubit[], \n",
    "                                target : Qubit) : Unit is Adj+Ctl {\n",
    "    let N = Length(edges);\n",
    "    let colorSize = 2;\n",
    "    \n",
    "    use q = Qubit[N];\n",
    "    within {\n",
    "        for i in IndexRange(edges) {\n",
    "            let (v1, v2) = edges[i];\n",
    "            ColorEqualityOracle_Nbit(colorsRegister[colorSize*v1..colorSize*(v1+1)-1], \n",
    "                                     colorsRegister[colorSize*v2..colorSize*(v2+1)-1], \n",
    "                                     q[i]);\n",
    "        }\n",
    "    } apply {\n",
    "        ControlledOnInt(0, X)(q, target);\n",
    "    }\n",
    "        \n",
    "    \n",
    "}"
   ]
  },
  {
   "cell_type": "markdown",
   "metadata": {},
   "source": [
    "*Can't come up with a solution? See the explained solution in the [Graph Coloring Workbook](./Workbook_GraphColoring.ipynb#Task-2.2.-Oracle-for-verifying-vertex-coloring).*"
   ]
  },
  {
   "cell_type": "markdown",
   "metadata": {},
   "source": [
    "### Task 2.3. Using Grover's search to find vertex coloring\n",
    "\n",
    "**Inputs:** \n",
    "\n",
    "  1. The number of vertices in the graph $V$ ($V \\leq 6$).\n",
    "\n",
    "  2. A marking oracle which implements vertex coloring verification, as implemented in task 2.2.\n",
    "\n",
    "**Output:** \n",
    "\n",
    "A valid vertex coloring for the graph, in a format used in task 2.1."
   ]
  },
  {
   "cell_type": "code",
   "execution_count": 8,
   "metadata": {
    "tags": [
     "timeout"
    ]
   },
   "outputs": [
    {
     "name": "stdout",
     "output_type": "stream",
     "text": [
      "Running on graph V = 3, edges = []\n",
      "Iteration 1\n",
      "Got correct coloring [0,3,0]\n",
      "Running on graph V = 4, edges = [(0, 1),(0, 2),(0, 3),(1, 2),(1, 3),(2, 3)]\n",
      "Iteration 1\n",
      "Got correct coloring [3,1,2,0]\n",
      "Running on graph V = 5, edges = [(4, 0),(2, 1),(3, 1),(3, 2)]\n",
      "Iteration 1\n",
      "Got correct coloring [2,2,3,0,3]\n",
      "Running on graph V = 5, edges = [(0, 1),(1, 2),(1, 3),(3, 2),(4, 2),(3, 4)]\n",
      "Iteration 1\n",
      "Iteration 2\n",
      "Got correct coloring [2,3,2,1,0]\n",
      "Running on graph V = 5, edges = [(0, 1),(0, 2),(0, 4),(1, 2),(1, 3),(2, 3),(2, 4),(3, 4)]\n",
      "Iteration 1\n",
      "Iteration 2\n",
      "Got correct coloring [3,2,0,3,2]\n",
      "Running on graph V = 6, edges = [(0, 1),(0, 2),(0, 4),(0, 5),(1, 2),(1, 3),(1, 5),(2, 3),(2, 4),(3, 4),(3, 5),(4, 5)]\n",
      "Iteration 1\n",
      "Iteration 2\n",
      "Iteration 3\n",
      "Got correct coloring [2,0,1,3,0,1]\n"
     ]
    },
    {
     "data": {
      "application/x-qsharp-data": "\"Success!\"",
      "text/plain": [
       "Success!"
      ]
     },
     "execution_count": 8,
     "metadata": {},
     "output_type": "execute_result"
    }
   ],
   "source": [
    "%kata T23_GroversAlgorithm \n",
    "\n",
    "open Microsoft.Quantum.Math;\n",
    "open Microsoft.Quantum.Random;\n",
    "open Microsoft.Quantum.Measurement;\n",
    "open Microsoft.Quantum.Convert;\n",
    "\n",
    "operation GroversAlgorithm (V : Int, oracle : ((Qubit[], Qubit) => Unit is Adj)) : Int[] {\n",
    "    let hmColors = Ceiling(Lg((V < 4) ? IntAsDouble(V) | 4.0));\n",
    "    \n",
    "    let N = 2*V;\n",
    "    // Alternative \n",
    "    // let N = hmColors*V;\n",
    "\n",
    "    let iterUpperBound = Truncate(PI() / 4.0 * IntAsDouble(N)) + 1;\n",
    "    mutable result = [];\n",
    "    mutable iterCounter = 0;\n",
    "    \n",
    "    use (x, y) = (Qubit[N], Qubit());    \n",
    "    use testQubit = Qubit();\n",
    "    \n",
    "    X(y);\n",
    "    H(y);\n",
    "    \n",
    "\n",
    "    repeat {\n",
    "        set iterCounter += 1;\n",
    "        Message($\"Iteration {iterCounter}\");\n",
    "        let hmIterations = DrawRandomInt(1, iterUpperBound);\n",
    "        ApplyToEach(H, x);\n",
    "        \n",
    "        for i in 1..hmIterations {\n",
    "            oracle(x, y);\n",
    "            \n",
    "            ApplyToEach(H, x);\n",
    "            \n",
    "            \n",
    "            X(x[N-1]);\n",
    "            ControlledOnInt(0, Z)(x[0..N-2], x[N-1]);\n",
    "            X(x[N-1]);\n",
    "            \n",
    "            ApplyToEach(H, x);\n",
    "        }\n",
    "        \n",
    "        set result = ResultArrayAsBoolArray(MultiM(x));\n",
    "        oracle(x, testQubit);\n",
    "    } until M(testQubit) == One\n",
    "    fixup {\n",
    "        ResetAll(x + [testQubit]);\n",
    "    }\n",
    "    \n",
    "    mutable ans = [];\n",
    "    for i in 0..V-1 {\n",
    "        set ans += [BoolArrayAsInt(result[hmColors*i..hmColors*(i+1)-1])];\n",
    "    }\n",
    "    \n",
    "    ResetAll(x + [y, testQubit]);\n",
    "    \n",
    "    return ans;\n",
    "}"
   ]
  },
  {
   "cell_type": "markdown",
   "metadata": {},
   "source": [
    "*Can't come up with a solution? See the explained solution in the [Graph Coloring Workbook](./Workbook_GraphColoring.ipynb#Task-2.3.-Using-Grover's-search-to-find-vertex-coloring).*"
   ]
  },
  {
   "cell_type": "markdown",
   "metadata": {},
   "source": [
    "## Part III. Weak coloring problem\n",
    "Weak graph coloring is a coloring of graph vertices which \n",
    "labels each vertex with one of the given colors so that \n",
    "each vertex is either isolated or is connected by an edge\n",
    "to at least one neighbor of a different color."
   ]
  },
  {
   "cell_type": "markdown",
   "metadata": {},
   "source": [
    "### Task 3.1. Determine if an edge contains the vertex\n",
    "\n",
    "**Inputs:**\n",
    "\n",
    "   1. An edge denoted by a tuple of integers.\n",
    "      Each tuple gives the indices of the start and the end vertices of the edge.\n",
    "   2. An integer denoting the vertex of the graph.\n",
    "\n",
    "**Output:** \n",
    "\n",
    "True if the edge contains the vertex provided, and false otherwise.\n",
    "\n",
    "**Examples:** \n",
    "- edge $(0,1)$ contains vertex $0$, so return true;\n",
    "- edge $(0,1)$ contains vertex $1$, so return true;\n",
    "- edge $(2,3)$ does not contain vertex $1$, so return false."
   ]
  },
  {
   "cell_type": "code",
   "execution_count": 4,
   "metadata": {},
   "outputs": [
    {
     "data": {
      "application/x-qsharp-data": "\"Success!\"",
      "text/plain": [
       "Success!"
      ]
     },
     "execution_count": 4,
     "metadata": {},
     "output_type": "execute_result"
    }
   ],
   "source": [
    "%kata T31_DoesEdgeContainVertex\n",
    "\n",
    "function DoesEdgeContainVertex (edge: (Int, Int), vertex : Int) : Bool {\n",
    "    let (v1, v2) = edge;\n",
    "    return v1 == vertex or v2 == vertex;\n",
    "}"
   ]
  },
  {
   "cell_type": "markdown",
   "metadata": {},
   "source": [
    "*Can't come up with a solution? See the explained solution in the [Graph Coloring Workbook](./Workbook_GraphColoring.ipynb#Task-3.1.-Determine-if-an-edge-contains-the-vertex).*"
   ]
  },
  {
   "cell_type": "markdown",
   "metadata": {},
   "source": [
    "### Task 3.2. Determine if a vertex is weakly colored\n",
    "**Inputs:** \n",
    "\n",
    "  1. The number of vertices in the graph $V$ ($V \\leq 6$).\n",
    "\n",
    "  2. An array of $E$ tuples of integers, representing the edges of the graph ($E \\leq 12$).  \n",
    "Each tuple gives the indices of the start and the end vertices of the edge.  \n",
    "The vertices are indexed $0$ through $V - 1$.\n",
    "\n",
    "  3. An array of $V$ integers, representing the vertex coloring of the graph. \n",
    "$i$-th element of the array is the color of the vertex number $i$.\n",
    "\n",
    "  4. A vertex in the graph, indexed $0$ through $V - 1$.\n",
    "\n",
    "**Output:**\n",
    "\n",
    "True if the vertex is weakly colored (i.e., it is connected to at least one neighboring vertex of different color),\n",
    "and false otherwise.\n",
    "\n",
    "**Note:**\n",
    "\n",
    "An isolated vertex (a vertex without neighbors) is considered to be weakly colored.\n",
    "\n",
    "**Example:**\n",
    "\n",
    "For vertex $0$, in a graph containing `edges = [(0, 1), (0, 2), (1, 2)]` and  `colors = [0, 1, 0]`, vertex $0$ is weakly colored, since it has color 0 and is connected to vertex 1 which has color 1."
   ]
  },
  {
   "cell_type": "code",
   "execution_count": 10,
   "metadata": {},
   "outputs": [
    {
     "data": {
      "application/x-qsharp-data": "\"Success!\"",
      "text/plain": [
       "Success!"
      ]
     },
     "execution_count": 10,
     "metadata": {},
     "output_type": "execute_result"
    }
   ],
   "source": [
    "%kata T32_IsVertexWeaklyColored\n",
    "\n",
    "function IsVertexWeaklyColored (V : Int, edges: (Int, Int)[], colors: Int[], vertex : Int) : Bool {\n",
    "    mutable isWeak = false;\n",
    "    mutable isIsolated = true;\n",
    "    \n",
    "    for edge in edges {\n",
    "        if not isWeak and DoesEdgeContainVertex(edge, vertex) {\n",
    "            set isIsolated = false;\n",
    "            let (v1, v2) = edge;\n",
    "            \n",
    "            if (colors[v1] != colors[v2]) {\n",
    "                set isWeak = true;\n",
    "            }\n",
    "        }\n",
    "    }\n",
    "    return isWeak or isIsolated;\n",
    "}"
   ]
  },
  {
   "cell_type": "markdown",
   "metadata": {},
   "source": [
    "*Can't come up with a solution? See the explained solution in the [Graph Coloring Workbook](./Workbook_GraphColoring.ipynb#Task-3.2.-Determine-if-a-vertex-is-weakly-colored).*"
   ]
  },
  {
   "cell_type": "markdown",
   "metadata": {},
   "source": [
    "### Task 3.3. Classical verification of weak coloring\n",
    "\n",
    "**Inputs:** \n",
    "\n",
    "  1. The number of vertices in the graph $V$ ($V \\leq 6$).\n",
    "\n",
    "  2. An array of $E$ tuples of integers, representing the edges of the graph ($E \\leq 12$).  \n",
    "Each tuple gives the indices of the start and the end vertices of the edge.  \n",
    "The vertices are indexed $0$ through $V - 1$.\n",
    "\n",
    "  3. An array of $V$ integers, representing the vertex coloring of the graph. \n",
    "$i$-th element of the array is the color of the vertex number $i$.\n",
    "\n",
    "**Output:** \n",
    "\n",
    "True if the given weak coloring is valid (i.e., every vertex is isolated or is connected to at least one neighboring vertex of different color), and false otherwise.\n",
    "\n",
    "**Example:** \n",
    "\n",
    "Consider a graph with $V = 3$ and `edges = [(0, 1), (0, 2), (1, 2)]`.  \n",
    "Some of the valid colorings for it would be `[0, 1, 0]` and `[-1, 5, 18]`."
   ]
  },
  {
   "cell_type": "code",
   "execution_count": 11,
   "metadata": {},
   "outputs": [
    {
     "data": {
      "application/x-qsharp-data": "\"Success!\"",
      "text/plain": [
       "Success!"
      ]
     },
     "execution_count": 11,
     "metadata": {},
     "output_type": "execute_result"
    }
   ],
   "source": [
    "%kata T33_IsWeakColoringValid\n",
    "\n",
    "open Microsoft.Quantum.Bitwise;\n",
    "\n",
    "function IsWeakColoringValid (V : Int, edges: (Int, Int)[], colors: Int[]) : Bool {\n",
    "    // It's sad that they do not motivate people to write an optimized classical code\n",
    "    mutable isVertexWeak = [false, size = V];\n",
    "    mutable isVertexIsolated = [true, size = V];\n",
    "    \n",
    "    for (v1, v2) in edges {\n",
    "        set isVertexIsolated w/= v1 <- false;\n",
    "        set isVertexIsolated w/= v2 <- false;\n",
    "        \n",
    "        if (colors[v1] != colors[v2]) {\n",
    "            set isVertexWeak w/= v1 <- true;\n",
    "            set isVertexWeak w/= v2 <- true;\n",
    "        }\n",
    "    }\n",
    "    \n",
    "    let a = BoolArrayAsInt(isVertexWeak);\n",
    "    let b = BoolArrayAsInt(isVertexIsolated);\n",
    "    \n",
    "    return Or(a, b) == 2^V-1;\n",
    "    //mutable isWeak = true;\n",
    "    //\n",
    "    //for i in 0..V-1 {\n",
    "    //    if isWeak {\n",
    "    //        set isWeak = IsVertexWeaklyColored(V, edges, colors, i);\n",
    "    //    }\n",
    "    //}\n",
    "    \n",
    "    //return isWeak;\n",
    "}"
   ]
  },
  {
   "cell_type": "markdown",
   "metadata": {},
   "source": [
    "*Can't come up with a solution? See the explained solution in the [Graph Coloring Workbook](./Workbook_GraphColoring.ipynb#Task-3.3.-Classical-verification-of-weak-coloring).*"
   ]
  },
  {
   "cell_type": "markdown",
   "metadata": {},
   "source": [
    "### Task 3.4. Oracle for verifying if a vertex is weakly colored\n",
    "\n",
    "**Inputs:**\n",
    "\n",
    "  1. The number of vertices in the graph $V$ ($V \\leq 6$).\n",
    "\n",
    "  2. An array of $E$ tuples of integers, representing the edges of the graph (E $\\leq$ 12).  \n",
    "Each tuple gives the indices of the start and the end vertices of the edge.  \n",
    "The vertices are indexed $0$ through $V - 1$.\n",
    "\n",
    "  3. An array of $2V$ qubits `colorsRegister` that encodes the color assignments.\n",
    "\n",
    "  4. A qubit in an arbitrary state $|y\\rangle$ (target qubit).\n",
    "  \n",
    "  5. A vertex in the graph, indexed $0$ through $V - 1$.\n",
    "\n",
    "**Goal:**\n",
    "\n",
    "Transform state $|x, y\\rangle$ into state $|x, y \\oplus f(x)\\rangle$  ($\\oplus$ is addition modulo 2), \n",
    "where $f(x) = 1$ if the given weak coloring is valid, and 0 otherwise. \n",
    "Leave the query register in the same state it started in.\n",
    "\n",
    "Each color in `colorsRegister` is represented as a 2-bit integer in little-endian format. \n",
    "See $Task\\ 1.3$ for a more detailed description of color assignments."
   ]
  },
  {
   "cell_type": "code",
   "execution_count": 6,
   "metadata": {},
   "outputs": [
    {
     "data": {
      "application/x-qsharp-data": "[\"getUsedQubits\"]",
      "text/html": [
       "<ul><li>getUsedQubits</li></ul>"
      ],
      "text/plain": [
       "getUsedQubits"
      ]
     },
     "execution_count": 6,
     "metadata": {},
     "output_type": "execute_result"
    }
   ],
   "source": [
    "function getUsedQubits(q : Qubit[], edges: (Int, Int)[], vertex : Int, colorLength : Int) : Qubit[] {\n",
    "    mutable usedQubits = [];\n",
    "    \n",
    "    for edge in edges {\n",
    "        if DoesEdgeContainVertex(edge, vertex) {\n",
    "            let (v1, v2) = edge;\n",
    "            let targetVertex = (v1 == vertex) ? v2 | v1;\n",
    "            set usedQubits += [q[targetVertex]];\n",
    "        }\n",
    "    }\n",
    "    return usedQubits;\n",
    "}"
   ]
  },
  {
   "cell_type": "code",
   "execution_count": 7,
   "metadata": {},
   "outputs": [
    {
     "name": "stdout",
     "output_type": "stream",
     "text": [
      "Testing V = 3, edges = []\n",
      "Testing V = 3, edges = []\n",
      "Testing V = 3, edges = []\n",
      "Testing V = 4, edges = [(0, 1),(0, 2),(0, 3),(1, 2),(1, 3),(2, 3)]\n",
      "Testing V = 4, edges = [(0, 1),(0, 2),(0, 3),(1, 2),(1, 3),(2, 3)]\n",
      "Testing V = 4, edges = [(0, 1),(0, 2),(0, 3),(1, 2),(1, 3),(2, 3)]\n",
      "Testing V = 4, edges = [(0, 1),(0, 2),(0, 3),(1, 2),(1, 3),(2, 3)]\n",
      "Testing V = 5, edges = [(4, 0),(2, 1),(3, 1),(3, 2)]\n",
      "Testing V = 5, edges = [(4, 0),(2, 1),(3, 1),(3, 2)]\n",
      "Testing V = 5, edges = [(4, 0),(2, 1),(3, 1),(3, 2)]\n",
      "Testing V = 5, edges = [(4, 0),(2, 1),(3, 1),(3, 2)]\n",
      "Testing V = 5, edges = [(4, 0),(2, 1),(3, 1),(3, 2)]\n",
      "Testing V = 5, edges = [(0, 1),(1, 2),(1, 3),(3, 2),(4, 2),(3, 4)]\n",
      "Testing V = 5, edges = [(0, 1),(1, 2),(1, 3),(3, 2),(4, 2),(3, 4)]\n",
      "Testing V = 5, edges = [(0, 1),(1, 2),(1, 3),(3, 2),(4, 2),(3, 4)]\n",
      "Testing V = 5, edges = [(0, 1),(1, 2),(1, 3),(3, 2),(4, 2),(3, 4)]\n",
      "Testing V = 5, edges = [(0, 1),(1, 2),(1, 3),(3, 2),(4, 2),(3, 4)]\n",
      "Testing V = 5, edges = [(0, 1),(0, 2),(0, 4),(1, 2),(1, 3),(2, 3),(2, 4),(3, 4)]\n",
      "Testing V = 5, edges = [(0, 1),(0, 2),(0, 4),(1, 2),(1, 3),(2, 3),(2, 4),(3, 4)]\n",
      "Testing V = 5, edges = [(0, 1),(0, 2),(0, 4),(1, 2),(1, 3),(2, 3),(2, 4),(3, 4)]\n",
      "Testing V = 5, edges = [(0, 1),(0, 2),(0, 4),(1, 2),(1, 3),(2, 3),(2, 4),(3, 4)]\n",
      "Testing V = 5, edges = [(0, 1),(0, 2),(0, 4),(1, 2),(1, 3),(2, 3),(2, 4),(3, 4)]\n"
     ]
    },
    {
     "data": {
      "application/x-qsharp-data": "\"Success!\"",
      "text/plain": [
       "Success!"
      ]
     },
     "execution_count": 7,
     "metadata": {},
     "output_type": "execute_result"
    }
   ],
   "source": [
    "%kata T34_WeaklyColoredVertexOracle\n",
    "\n",
    "open Microsoft.Quantum.Arrays;\n",
    "open Microsoft.Quantum.Diagnostics;\n",
    "\n",
    "operation WeaklyColoredVertexOracle(V : Int, \n",
    "                                    edges: (Int, Int)[], \n",
    "                                    colorsRegister : Qubit[], \n",
    "                                    target : Qubit, \n",
    "                                    vertex : Int) : Unit is Adj+Ctl {\n",
    "    \n",
    "    use q = Qubit[V];\n",
    "    \n",
    "    let colorLength = Length(colorsRegister) / V;\n",
    "    within {\n",
    "        for edge in edges {\n",
    "            let (v1, v2) = edge;\n",
    "            if DoesEdgeContainVertex(edge, vertex) {\n",
    "                let targetVertex = (v1 == vertex) ? v2 | v1;\n",
    "                \n",
    "                ColorEqualityOracle_Nbit(colorsRegister[colorLength*v1..colorLength*(v1+1)-1],\n",
    "                                         colorsRegister[colorLength*v2..colorLength*(v2+1)-1], \n",
    "                                         q[targetVertex]);\n",
    "            }                \n",
    "        }\n",
    "    } apply {\n",
    "        let usedQubits = getUsedQubits(q, edges, vertex, colorLength);\n",
    "        \n",
    "        if Length(usedQubits) > 0 {\n",
    "            X(target);\n",
    "        }\n",
    "        ControlledOnInt(2^Length(usedQubits)-1, X)(usedQubits, target);\n",
    "    }\n",
    "}"
   ]
  },
  {
   "cell_type": "markdown",
   "metadata": {},
   "source": [
    "*Can't come up with a solution? See the explained solution in the [Graph Coloring Workbook](./Workbook_GraphColoring.ipynb#Task-3.4.-Oracle-for-verifying-if-a-vertex-is-weakly-colored).*"
   ]
  },
  {
   "cell_type": "markdown",
   "metadata": {},
   "source": [
    "### Task 3.5. Oracle for verifying weak coloring\n",
    "    \n",
    "**Inputs:**\n",
    "\n",
    "  1. The number of vertices in the graph $V$ ($V \\leq 6$).\n",
    "\n",
    "  2. An array of $E$ tuples of integers, representing the edges of the graph ($E \\leq 12$).  \n",
    "Each tuple gives the indices of the start and the end vertices of the edge.  \n",
    "The vertices are indexed $0$ through $V - 1$.\n",
    "\n",
    "  3. An array of $2V$ qubits `colorsRegister` that encodes the color assignments.\n",
    "\n",
    "  4. A qubit in an arbitrary state $|y\\rangle$ (target qubit).\n",
    "\n",
    "**Goal:**\n",
    "\n",
    "Transform state $|x, y\\rangle$ into state $|x, y \\oplus f(x)\\rangle$  ($\\oplus$ is addition modulo 2), \n",
    "where $f(x) = 1$ if the given weak coloring is valid, and 0 otherwise. \n",
    "Leave the query register in the same state it started in.\n",
    "\n",
    "Each color in `colorsRegister` is represented as a 2-bit integer in little-endian format. \n",
    "See $Task\\ 1.3$ for a more detailed description of color assignments."
   ]
  },
  {
   "cell_type": "code",
   "execution_count": 8,
   "metadata": {},
   "outputs": [
    {
     "name": "stdout",
     "output_type": "stream",
     "text": [
      "Testing V = 3, edges = []\n",
      "Testing V = 4, edges = [(0, 1),(0, 2),(0, 3),(1, 2),(1, 3),(2, 3)]\n",
      "Testing V = 5, edges = [(4, 0),(2, 1),(3, 1),(3, 2)]\n",
      "Testing V = 5, edges = [(0, 1),(1, 2),(1, 3),(3, 2),(4, 2),(3, 4)]\n"
     ]
    },
    {
     "data": {
      "application/x-qsharp-data": "\"Success!\"",
      "text/plain": [
       "Success!"
      ]
     },
     "execution_count": 8,
     "metadata": {},
     "output_type": "execute_result"
    }
   ],
   "source": [
    "%kata T35_WeakColoringOracle\n",
    "\n",
    "operation WeakColoringOracle (\n",
    "    V : Int,\n",
    "    edges : (Int, Int)[],\n",
    "    colorsRegister : Qubit[],\n",
    "    target : Qubit\n",
    ") : Unit is Adj+Ctl {\n",
    "\n",
    "    use q = Qubit[V];\n",
    "    \n",
    "    within {\n",
    "        for i in 0..V-1 {\n",
    "            WeaklyColoredVertexOracle(V, edges, colorsRegister, q[i], i);\n",
    "        }\n",
    "    }\n",
    "    apply {\n",
    "        ControlledOnInt(2^V-1, X)(q, target);\n",
    "    }    \n",
    "}"
   ]
  },
  {
   "cell_type": "markdown",
   "metadata": {},
   "source": [
    "*Can't come up with a solution? See the explained solution in the [Graph Coloring Workbook](./Workbook_GraphColoring.ipynb#Task-3.5.-Oracle-for-verifying-weak-coloring).*"
   ]
  },
  {
   "cell_type": "markdown",
   "metadata": {},
   "source": [
    "### Task 3.6. Using Grover's search to find weak coloring\n",
    "\n",
    "**Inputs:** \n",
    "\n",
    "  1. The number of vertices in the graph $V$ ($V \\leq 6$).\n",
    "\n",
    "  2. A marking oracle which implements weak coloring verification, as implemented in Task 3.5.\n",
    "\n",
    "**Output:** \n",
    "\n",
    "A valid weak coloring for the graph, in a format used in Task 3.3."
   ]
  },
  {
   "cell_type": "code",
   "execution_count": 10,
   "metadata": {},
   "outputs": [
    {
     "name": "stdout",
     "output_type": "stream",
     "text": [
      "Running on graph V = 3, edges = []\n",
      "Iteration 1\n",
      "Got correct coloring [0,1,1]\n",
      "Running on graph V = 4, edges = [(0, 1),(0, 2),(0, 3),(1, 2),(1, 3),(2, 3)]\n",
      "Iteration 1\n",
      "Got correct coloring [3,1,1,3]\n",
      "Running on graph V = 5, edges = [(4, 0),(2, 1),(3, 1),(3, 2)]\n",
      "Iteration 1\n",
      "Got correct coloring [0,0,0,2,1]\n",
      "Running on graph V = 5, edges = [(0, 1),(1, 2),(1, 3),(3, 2),(4, 2),(3, 4)]\n",
      "Iteration 1\n",
      "Got correct coloring [3,1,2,3,3]\n",
      "Running on graph V = 5, edges = [(0, 1),(0, 2),(0, 4),(1, 2),(1, 3),(2, 3),(2, 4),(3, 4)]\n",
      "Iteration 1\n",
      "Iteration 2\n",
      "Got correct coloring [2,1,2,1,0,3]\n"
     ]
    },
    {
     "data": {
      "application/x-qsharp-data": "\"Success!\"",
      "text/plain": [
       "Success!"
      ]
     },
     "execution_count": 10,
     "metadata": {},
     "output_type": "execute_result"
    }
   ],
   "source": [
    "%kata T36_GroversAlgorithmForWeakColoring\n",
    "\n",
    "// This is one to one copypaste from the previous Grover search task...\n",
    "\n",
    "\n",
    "open Microsoft.Quantum.Math;\n",
    "open Microsoft.Quantum.Random;\n",
    "open Microsoft.Quantum.Measurement;\n",
    "open Microsoft.Quantum.Convert;\n",
    "\n",
    "operation GroversAlgorithmForWeakColoring (V : Int, oracle : ((Qubit[], Qubit) => Unit is Adj)) : Int[] {\n",
    "    let hmColors = Ceiling(Lg((V < 4) ? IntAsDouble(V) | 4.0));\n",
    "    \n",
    "    let N = 2*V;\n",
    "    // Alternative \n",
    "    // let N = hmColors*V;\n",
    "\n",
    "    let iterUpperBound = Truncate(PI() / 4.0 * IntAsDouble(N)) + 1;\n",
    "    mutable result = [];\n",
    "    mutable iterCounter = 0;\n",
    "    \n",
    "    use (x, y) = (Qubit[N], Qubit());    \n",
    "    use testQubit = Qubit();\n",
    "    \n",
    "    X(y);\n",
    "    H(y);\n",
    "    \n",
    "\n",
    "    repeat {\n",
    "        set iterCounter += 1;\n",
    "        Message($\"Iteration {iterCounter}\");\n",
    "        let hmIterations = DrawRandomInt(1, iterUpperBound);\n",
    "        ApplyToEach(H, x);\n",
    "        \n",
    "        for i in 1..hmIterations {\n",
    "            oracle(x, y);\n",
    "            \n",
    "            ApplyToEach(H, x);\n",
    "            \n",
    "            \n",
    "            X(x[N-1]);\n",
    "            ControlledOnInt(0, Z)(x[0..N-2], x[N-1]);\n",
    "            X(x[N-1]);\n",
    "            \n",
    "            ApplyToEach(H, x);\n",
    "        }\n",
    "        \n",
    "        set result = ResultArrayAsBoolArray(MultiM(x));\n",
    "        oracle(x, testQubit);\n",
    "    } until M(testQubit) == One\n",
    "    fixup {\n",
    "        ResetAll(x + [testQubit]);\n",
    "    }\n",
    "    \n",
    "    mutable ans = [];\n",
    "    for i in 0..V-1 {\n",
    "        set ans += [BoolArrayAsInt(result[hmColors*i..hmColors*(i+1)-1])];\n",
    "    }\n",
    "    \n",
    "    ResetAll(x + [y, testQubit]);\n",
    "    \n",
    "    return ans;\n",
    "}"
   ]
  },
  {
   "cell_type": "markdown",
   "metadata": {},
   "source": [
    "*Can't come up with a solution? See the explained solution in the [Graph Coloring Workbook](./Workbook_GraphColoring.ipynb#Task-3.6.-Using-Grover's-search-to-find-weak-coloring).*"
   ]
  },
  {
   "cell_type": "markdown",
   "metadata": {},
   "source": [
    "## Part IV. Triangle-free coloring problem\n",
    "\n",
    "Triangle-free graph coloring is a coloring of graph edges which labels each edge with one of two colors so that no three edges of the same color form a triangle."
   ]
  },
  {
   "cell_type": "markdown",
   "metadata": {},
   "source": [
    "### Task 4.1. Convert the list of graph edges into an adjacency matrix\n",
    "\n",
    "**Inputs:**\n",
    "\n",
    "   1. The number of vertices in the graph $V$ ($V \\leq 6$).\n",
    "   \n",
    "   2. An array of $E$ tuples of integers, representing the edges of the graph ($E \\leq 12$). Each tuple gives the indices of the start and the end vertices of the edge. The vertices are indexed $0$ through $V - 1$.\n",
    "\n",
    "**Output:**  \n",
    "A 2D array of integers representing this graph as an adjacency matrix:  the element [i][j] should be $-1$ if the vertices i and j are not connected with an edge, or store the index of the edge if the vertices i and j are connected with an edge. Elements [i][i] should be $-1$ unless there is an edge connecting vertex i to itself.\n",
    "\n",
    "**Example:**\n",
    "Consider a graph with $V = 3$ and edges = `[(0, 1), (0, 2), (1, 2)]`.\n",
    "The adjacency matrix for it would be:\n",
    "\n",
    "$$\n",
    "\\begin{bmatrix}\n",
    "-1 &  0 &  1 \\\\\n",
    " 0 & -1 &  2 \\\\\n",
    " 1 &  2 & -1\n",
    "\\end{bmatrix}\n",
    "$$\n"
   ]
  },
  {
   "cell_type": "code",
   "execution_count": 16,
   "metadata": {},
   "outputs": [
    {
     "name": "stdout",
     "output_type": "stream",
     "text": [
      "Running on graph V = 3, edges = []\n",
      "Got correct adjacency matrix\n",
      "Running on graph V = 4, edges = [(0, 1),(0, 2),(0, 3),(1, 2),(1, 3),(2, 3)]\n",
      "Got correct adjacency matrix\n",
      "Running on graph V = 5, edges = [(4, 0),(2, 1),(3, 1),(3, 2)]\n",
      "Got correct adjacency matrix\n",
      "Running on graph V = 5, edges = [(0, 1),(1, 2),(1, 3),(3, 2),(4, 2),(3, 4)]\n",
      "Got correct adjacency matrix\n",
      "Running on graph V = 5, edges = [(0, 1),(0, 2),(0, 4),(1, 2),(1, 3),(2, 3),(2, 4),(3, 4)]\n",
      "Got correct adjacency matrix\n",
      "Running on graph V = 6, edges = [(0, 1),(0, 2),(0, 4),(0, 5),(1, 2),(1, 3),(1, 5),(2, 3),(2, 4),(3, 4),(3, 5),(4, 5)]\n",
      "Got correct adjacency matrix\n"
     ]
    },
    {
     "data": {
      "application/x-qsharp-data": "\"Success!\"",
      "text/plain": [
       "Success!"
      ]
     },
     "execution_count": 16,
     "metadata": {},
     "output_type": "execute_result"
    }
   ],
   "source": [
    "%kata T41_EdgesListAsAdjacencyMatrix\n",
    "\n",
    "function EdgesListAsAdjacencyMatrix (V : Int, edges : (Int, Int)[]) : Int[][] {\n",
    "    mutable arr = [[-1, size=V], size=V];\n",
    "    for i in IndexRange(edges) {\n",
    "        let (v1, v2) = edges[i];\n",
    "        set arr w/= v1 <- arr[v1][0..v2-1] + [i] + arr[v1][v2+1..V-1]; \n",
    "        set arr w/= v2 <- arr[v2][0..v1-1] + [i] + arr[v2][v1+1..V-1]; \n",
    "    }\n",
    "    return arr;\n",
    "}"
   ]
  },
  {
   "cell_type": "markdown",
   "metadata": {},
   "source": [
    "### Task 4.2. Extract a list of triangles from an adjacency matrix\n",
    "\n",
    "\n",
    "**Inputs:**\n",
    "\n",
    "   1. The number of vertices in the graph $V (V \\leq 6)$.\n",
    "   \n",
    "   2. An adjacency matrix describing the graph in the format from task 4.1.\n",
    "   \n",
    "**Output:** \n",
    "\n",
    "An array of 3-tuples listing all triangles in the graph, that is, all triplets of vertices connected by edges. Each of the 3-tuples should list the triangle vertices in ascending order, and the 3-tuples in the array should be sorted in ascending order as well.\n",
    "\n",
    "**Example:** \n",
    "\n",
    "Consider the adjacency matrix\n",
    "$$\n",
    "\\begin{bmatrix}\n",
    "-1 &  0 &  1 \\\\\n",
    " 0 & -1 &  2 \\\\\n",
    " 1 &  2 & -1\n",
    "\\end{bmatrix}\n",
    "$$\n",
    "\n",
    "The list of triangles for it would be `[(0, 1, 2)]`."
   ]
  },
  {
   "cell_type": "code",
   "execution_count": 18,
   "metadata": {},
   "outputs": [
    {
     "name": "stdout",
     "output_type": "stream",
     "text": [
      "Running on graph V = 3, edges = []\n",
      "Got correct triangles list\n",
      "Running on graph V = 4, edges = [(0, 1),(0, 2),(0, 3),(1, 2),(1, 3),(2, 3)]\n",
      "Got correct triangles list\n",
      "Running on graph V = 5, edges = [(4, 0),(2, 1),(3, 1),(3, 2)]\n",
      "Got correct triangles list\n",
      "Running on graph V = 5, edges = [(0, 1),(1, 2),(1, 3),(3, 2),(4, 2),(3, 4)]\n",
      "Got correct triangles list\n",
      "Running on graph V = 5, edges = [(0, 1),(0, 2),(0, 4),(1, 2),(1, 3),(2, 3),(2, 4),(3, 4)]\n",
      "Got correct triangles list\n",
      "Running on graph V = 6, edges = [(0, 1),(0, 2),(0, 4),(0, 5),(1, 2),(1, 3),(1, 5),(2, 3),(2, 4),(3, 4),(3, 5),(4, 5)]\n",
      "Got correct triangles list\n"
     ]
    },
    {
     "data": {
      "application/x-qsharp-data": "\"Success!\"",
      "text/plain": [
       "Success!"
      ]
     },
     "execution_count": 18,
     "metadata": {},
     "output_type": "execute_result"
    }
   ],
   "source": [
    "%kata T42_AdjacencyMatrixAsTrianglesList\n",
    "\n",
    "function AdjacencyMatrixAsTrianglesList (V : Int, adjacencyMatrix : Int[][]) : (Int, Int, Int)[] {\n",
    "    mutable ans = [];\n",
    "    \n",
    "    for i in 0..V-1 {\n",
    "        for k in i+1..V-1 {\n",
    "            for l in k+1..V-1 {\n",
    "                if (adjacencyMatrix[i][k] != -1 and \n",
    "                    adjacencyMatrix[k][l] != -1 and \n",
    "                    adjacencyMatrix[l][i] != -1) {\n",
    "                        set ans += [(i, k, l)];\n",
    "                    }\n",
    "            }\n",
    "        }\n",
    "    }\n",
    "    \n",
    "    return ans;\n",
    "}"
   ]
  },
  {
   "cell_type": "markdown",
   "metadata": {},
   "source": [
    "### Task 4.3. Classical verification of triangle-free coloring\n",
    "**Inputs:**\n",
    "   1. The number of vertices in the graph $V (V \\leq 6)$.\n",
    "   \n",
    "   2. An array of $E$ tuples of integers, representing the edges of the graph $(E \\leq 12)$. Each tuple gives the indices of the start and the end vertices of the edge. The vertices are indexed $0$ through $V - 1$.\n",
    "   \n",
    "   3. An array of $E$ integers, representing the edge coloring of the graph. $i^{th}$ element of the array is the color of the edge number $i$, and it is $0$ or $1$. The colors of edges in this array are given in the same order as the edges in the \"edges\" array.\n",
    "\n",
    "**Output:** \n",
    "\n",
    "`true` if the given coloring is triangle-free (i.e., no triangle of edges connecting 3 vertices has all three edges in the same color), and `false` otherwise.\n",
    "\n",
    "**Example:** \n",
    "\n",
    "Consider a graph with $V = 3$ and edges = `[(0, 1), (0, 2), (1, 2)]`. Some of the valid colorings for it would be `[0, 1, 0]` and `[-1, 5, 18]`."
   ]
  },
  {
   "cell_type": "code",
   "execution_count": 25,
   "metadata": {},
   "outputs": [
    {
     "data": {
      "application/x-qsharp-data": "\"Success!\"",
      "text/plain": [
       "Success!"
      ]
     },
     "execution_count": 25,
     "metadata": {},
     "output_type": "execute_result"
    }
   ],
   "source": [
    "%kata T43_IsVertexColoringTriangleFree\n",
    "\n",
    "function IsVertexColoringTriangleFree (V : Int, edges: (Int, Int)[], colors: Int[]) : Bool {\n",
    "    let adjacencyMatrix = EdgesListAsAdjacencyMatrix(V, edges);\n",
    "    let triangles = AdjacencyMatrixAsTrianglesList(V, adjacencyMatrix);\n",
    "    \n",
    "    mutable triangleFree = true;\n",
    "    \n",
    "    for triangle in triangles {\n",
    "        let (v1, v2, v3) = triangle;\n",
    "        if triangleFree and colors[v1] == colors[v2] and colors[v1] == colors[v3] {\n",
    "            set triangleFree = false;\n",
    "        }\n",
    "    }\n",
    "    \n",
    "    return triangleFree;\n",
    "}"
   ]
  },
  {
   "cell_type": "markdown",
   "metadata": {},
   "source": [
    "### Task 4.4. Oracle to check that three colors don't form a triangle (f(x) = 1 if at least two of three input bits are different)\n",
    "\n",
    "**Inputs:**\n",
    "\n",
    "  1. a 3-qubit array `inputs`,\n",
    "  \n",
    "  2. a qubit `output`.\n",
    "  \n",
    "**Goal:** \n",
    "\n",
    "Flip the output qubit if and only if at least two of the input qubits are different.\n",
    "\n",
    "**Example:** \n",
    "\n",
    "For the result of applying the operation to state $(|001\\rangle + |110\\rangle + |111\\rangle) \\otimes |0\\rangle$ will be $|001\\rangle \\otimes |1\\rangle + |110\\rangle \\otimes |1\\rangle + |111\\rangle \\otimes |0\\rangle$."
   ]
  },
  {
   "cell_type": "code",
   "execution_count": 26,
   "metadata": {},
   "outputs": [
    {
     "data": {
      "application/x-qsharp-data": "\"Success!\"",
      "text/plain": [
       "Success!"
      ]
     },
     "execution_count": 26,
     "metadata": {},
     "output_type": "execute_result"
    }
   ],
   "source": [
    "%kata T44_ValidTriangleOracle\n",
    "\n",
    "operation ValidTriangleOracle (inputs : Qubit[], output : Qubit) : Unit is Adj+Ctl {\n",
    "    X(output);\n",
    "    ControlledOnInt(0, X)(inputs, output);\n",
    "    ControlledOnInt(7, X)(inputs, output);\n",
    "}"
   ]
  },
  {
   "cell_type": "markdown",
   "metadata": {},
   "source": [
    "### Task 4.5. Oracle for verifying triangle-free edge coloring (f(x) = 1 if the graph edge coloring is triangle-free)\n",
    "\n",
    "**Inputs:**\n",
    "  1. The number of vertices in the graph $V (V \\leq 6)$.\n",
    "  \n",
    "  2. An array of $E$ tuples of integers `edges`, representing the edges of the graph ($0 \\leq E \\leq V(V-1)/2$). Each tuple gives the indices of the start and the end vertices of the edge. The vertices are indexed $0$ through $V - 1$. The graph is undirected, so the order of the start and the end vertices in the edge doesn't matter.\n",
    "  \n",
    "  3. An array of $E$ qubits `colorsRegister` that encodes the color assignments of the edges. Each color will be $0$ or $1$ (stored in 1 qubit). The colors of edges in this array are given in the same order as the edges in the `edges` array.\n",
    "  \n",
    "  4. A qubit `target` in an arbitrary state.\n",
    "\n",
    "**Goal:** \n",
    "\n",
    "Implement a marking oracle for function $f(x) = 1$ if the coloring of the edges of the given graph described by this colors assignment is triangle-free, i.e., no triangle of edges connecting 3 vertices has all three edges in the same color.\n",
    "\n",
    "In this task you are not allowed to use quantum gates that use more qubits than the number of edges in the graph,\n",
    "unless there are 3 or less edges in the graph. For example, if the graph has 4 edges, you can only use 4-qubit gates or less.\n",
    "You are guaranteed that in tests that have 4 or more edges in the graph the number of triangles in the graph \n",
    "will be strictly less than the number of edges.\n",
    "\n",
    "**Example:** \n",
    "A graph with 3 vertices and 3 edges `[(0, 1), (1, 2), (2, 0)]` has one triangle.  \n",
    "The result of applying the operation to state $\\frac{1}{\\sqrt{3}} \\big(|001\\rangle + |110\\rangle + |111\\rangle\\big) \\otimes |0\\rangle$ will be $\\frac{1}{\\sqrt{3}} \\big(|001\\rangle \\otimes |1\\rangle + |110\\rangle \\otimes |1\\rangle + |111\\rangle \\otimes |0\\rangle\\big)$.\n",
    "The first two terms describe triangle-free colorings, and the last term describes a coloring where all edges of the triangle have the same color.\n",
    "\n",
    "<br/>\n",
    "<details>\n",
    "  <summary><b>Need a hint? Click here</b></summary>\n",
    "  Make use of functions and operations you've defined in previous tasks. \n",
    "</details>\n"
   ]
  },
  {
   "cell_type": "code",
   "execution_count": 32,
   "metadata": {},
   "outputs": [
    {
     "data": {
      "application/x-qsharp-data": "[\"triangleVerticesList\"]",
      "text/html": [
       "<ul><li>triangleVerticesList</li></ul>"
      ],
      "text/plain": [
       "triangleVerticesList"
      ]
     },
     "execution_count": 32,
     "metadata": {},
     "output_type": "execute_result"
    }
   ],
   "source": [
    "function triangleVerticesList (V : Int, adjacencyMatrix : Int[][]) : (Int, Int, Int)[] {\n",
    "    mutable ans = [];\n",
    "    \n",
    "    for i in 0..V-1 {\n",
    "        for k in i+1..V-1 {\n",
    "            for l in k+1..V-1 {\n",
    "                if (adjacencyMatrix[i][k] != -1 and \n",
    "                    adjacencyMatrix[k][l] != -1 and \n",
    "                    adjacencyMatrix[l][i] != -1) {\n",
    "                        set ans += [(adjacencyMatrix[i][k],\n",
    "                                     adjacencyMatrix[k][l], \n",
    "                                     adjacencyMatrix[l][i])];\n",
    "                    }\n",
    "            }\n",
    "        }\n",
    "    }\n",
    "    \n",
    "    return ans;\n",
    "}"
   ]
  },
  {
   "cell_type": "code",
   "execution_count": 33,
   "metadata": {},
   "outputs": [
    {
     "name": "stdout",
     "output_type": "stream",
     "text": [
      "Testing (6, [])\n",
      "Testing (6, [(0, 1),(1, 2),(2, 3),(3, 4),(4, 5),(5, 0)])\n",
      "Testing (6, [(0, 1),(0, 2),(0, 3),(0, 4),(0, 5)])\n",
      "Testing (6, [(0, 1),(0, 3),(0, 5),(1, 2),(1, 4),(2, 3),(2, 5),(3, 4),(4, 5)])\n",
      "Testing (3, [(0, 1),(1, 2),(2, 0)])\n",
      "Testing (6, [(0, 1),(4, 3),(2, 1),(5, 4),(5, 0),(2, 0)])\n",
      "Testing (4, [(1, 0),(3, 2),(0, 3),(2, 1),(3, 1)])\n",
      "Testing (4, [(1, 0),(3, 2),(0, 3),(2, 1),(3, 1),(0, 2)])\n",
      "Testing (5, [(0, 2),(1, 2),(3, 2),(4, 2),(0, 1),(1, 3),(4, 0),(3, 4)])\n",
      "Testing (6, [(2, 1),(2, 3),(1, 3),(1, 0),(1, 5),(3, 5),(3, 4),(0, 5),(5, 4)])\n"
     ]
    },
    {
     "data": {
      "application/x-qsharp-data": "\"Success!\"",
      "text/plain": [
       "Success!"
      ]
     },
     "execution_count": 33,
     "metadata": {},
     "output_type": "execute_result"
    }
   ],
   "source": [
    "%kata T45_TriangleFreeColoringOracle\n",
    "\n",
    "operation TriangleFreeColoringOracle (\n",
    "    V : Int, \n",
    "    edges : (Int, Int)[], \n",
    "    colorsRegister : Qubit[], \n",
    "    target : Qubit\n",
    ") : Unit is Adj+Ctl {\n",
    "\n",
    "    let adjacencyMatrix = EdgesListAsAdjacencyMatrix(V, edges);\n",
    "    let triangles = triangleVerticesList(V, adjacencyMatrix);\n",
    "    let N = Length(triangles);\n",
    "    \n",
    "    use q = Qubit[N];\n",
    "    within {\n",
    "        for i in IndexRange(triangles) {\n",
    "            let (e1, e2, e3) = triangles[i];\n",
    "            ValidTriangleOracle([colorsRegister[e1], \n",
    "                                 colorsRegister[e2], \n",
    "                                 colorsRegister[e3]], q[i]);\n",
    "        }\n",
    "    }\n",
    "    apply {\n",
    "        ControlledOnInt(2^N-1, X)(q, target);\n",
    "    }\n",
    "}"
   ]
  }
 ],
 "metadata": {
  "kernelspec": {
   "display_name": "Q#",
   "language": "qsharp",
   "name": "iqsharp"
  },
  "language_info": {
   "file_extension": ".qs",
   "mimetype": "text/x-qsharp",
   "name": "qsharp",
   "version": "0.14"
  }
 },
 "nbformat": 4,
 "nbformat_minor": 2
}
