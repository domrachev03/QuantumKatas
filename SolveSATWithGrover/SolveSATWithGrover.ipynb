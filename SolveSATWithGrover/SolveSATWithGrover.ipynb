{
 "cells": [
  {
   "cell_type": "markdown",
   "metadata": {},
   "source": [
    "# Solving SAT problem with Grover's algorithm\n",
    "\n",
    "The **\"Solving SAT problem with Grover's algorithm\"** quantum kata is a series of exercises designed\n",
    "to get you comfortable with using Grover's algorithm to solve realistic problems\n",
    "using boolean satisfiability problems (SAT) as an example.\n",
    "\n",
    "Each task is wrapped in one operation preceded by the description of the task.\n",
    "Your goal is to fill in the blank (marked with the `// ...` comments)\n",
    "with some Q# code that solves the task. To verify your answer, run the cell using Ctrl+Enter (⌘+Enter on macOS).\n",
    "\n",
    "Within each section, tasks are given in approximate order of increasing difficulty; \n",
    "harder ones are marked with asterisks."
   ]
  },
  {
   "cell_type": "markdown",
   "metadata": {},
   "source": [
    "## Part I. Oracles for SAT problems\n",
    "\n",
    "The most interesting part of learning Grover's algorithm is solving realistic problems.\n",
    "This means using oracles which express an actual problem and not simply hard-code a known solution.\n",
    "In this section we'll learn how to express boolean satisfiability problems as quantum oracles."
   ]
  },
  {
   "cell_type": "markdown",
   "metadata": {},
   "source": [
    "### Task 1.1. The AND oracle: $f(x) = x_0 \\wedge x_1$\n",
    "\n",
    "**Inputs:** \n",
    "\n",
    "  1. 2 qubits in an arbitrary state $|x\\rangle$ (input/query register).\n",
    "\n",
    "  2. A qubit in an arbitrary state $|y\\rangle$ (target qubit).\n",
    "\n",
    "**Goal:**\n",
    "\n",
    "Transform state $|x,y\\rangle$ into state $|x, y \\oplus f(x)\\rangle$ ($\\oplus$ is addition modulo 2), \n",
    "i.e., flip the target state if all qubits of the query register are in the $|1\\rangle$ state, \n",
    "and leave it unchanged otherwise.\n",
    "\n",
    "Leave the query register in the same state it started in.\n",
    "\n",
    "**Stretch Goal:** \n",
    "\n",
    "Can you implement the oracle so that it would work \n",
    "for `queryRegister` containing an arbitrary number of qubits?"
   ]
  },
  {
   "cell_type": "code",
   "execution_count": 1,
   "metadata": {},
   "outputs": [
    {
     "data": {
      "application/x-qsharp-data": "\"Success!\"",
      "text/plain": [
       "Success!"
      ]
     },
     "execution_count": 1,
     "metadata": {},
     "output_type": "execute_result"
    }
   ],
   "source": [
    "%kata T11_Oracle_And \n",
    "\n",
    "operation Oracle_And (queryRegister : Qubit[], target : Qubit) : Unit is Adj {\n",
    "    ControlledOnInt(2^Length(queryRegister)-1, X)(queryRegister, target);\n",
    "}"
   ]
  },
  {
   "cell_type": "markdown",
   "metadata": {},
   "source": [
    "*Can't come up with a solution? See the explained solution in the [Solving SAT problem with Grover's algorithm Workbook](./Workbook_SolveSATWithGrover.ipynb#Task-1.1.-The-AND-oracle:-$f(x)-=-x_0-\\wedge-x_1$).*"
   ]
  },
  {
   "cell_type": "markdown",
   "metadata": {},
   "source": [
    "### Task 1.2. The OR oracle: $f(x) = x_0 \\vee x_1$\n",
    "\n",
    "**Inputs:** \n",
    "\n",
    "  1. 2 qubits in an arbitrary state $|x\\rangle$ (input/query register).\n",
    "\n",
    "  2. A qubit in an arbitrary state $|y\\rangle$ (target qubit).\n",
    "\n",
    "**Goal:** \n",
    "\n",
    "Transform state $|x,y\\rangle$ into state $|x, y \\oplus f(x)\\rangle$ ($\\oplus$ is addition modulo 2), \n",
    "i.e., flip the target state if at least one qubit of the query register is in the $|1\\rangle$ state, \n",
    "and leave it unchanged otherwise.\n",
    "\n",
    "Leave the query register in the same state it started in.\n",
    "\n",
    "**Stretch Goal:** \n",
    "\n",
    "Can you implement the oracle so that it would work \n",
    "for `queryRegister` containing an arbitrary number of qubits?"
   ]
  },
  {
   "cell_type": "code",
   "execution_count": 2,
   "metadata": {},
   "outputs": [
    {
     "data": {
      "application/x-qsharp-data": "\"Success!\"",
      "text/plain": [
       "Success!"
      ]
     },
     "execution_count": 2,
     "metadata": {},
     "output_type": "execute_result"
    }
   ],
   "source": [
    "%kata T12_Oracle_Or \n",
    "\n",
    "open Microsoft.Quantum.Diagnostics;\n",
    "\n",
    "operation Oracle_Or (queryRegister : Qubit[], target : Qubit) : Unit is Adj {\n",
    "    X(target);\n",
    "    ControlledOnInt(0, X)(queryRegister, target);\n",
    "}"
   ]
  },
  {
   "cell_type": "markdown",
   "metadata": {},
   "source": [
    "*Can't come up with a solution? See the explained solution in the [Solving SAT problem with Grover's algorithm Workbook](./Workbook_SolveSATWithGrover.ipynb#Task-1.2.-The-OR-oracle:-$f(x)-=-x_0-\\vee-x_1$).*"
   ]
  },
  {
   "cell_type": "markdown",
   "metadata": {},
   "source": [
    "### Task 1.3. The XOR oracle: $f(x) = x_0 \\oplus x_1$\n",
    "\n",
    "**Inputs:** \n",
    "\n",
    "  1. 2 qubits in an arbitrary state $|x\\rangle$ (input/query register).\n",
    "\n",
    "  2. A qubit in an arbitrary state $|y\\rangle$ (target qubit).\n",
    "\n",
    "**Goal:** \n",
    "\n",
    "Transform state $|x,y\\rangle$ into state $|x, y \\oplus f(x)\\rangle$ ($\\oplus$ is addition modulo 2), \n",
    "i.e., flip the target state if the qubits of the query register are in different states, \n",
    "and leave it unchanged otherwise.\n",
    "\n",
    "Leave the query register in the same state it started in.\n",
    "\n",
    "**Stretch Goal:** \n",
    "\n",
    "Can you implement the oracle so that it would work \n",
    "for `queryRegister` containing an arbitrary number of qubits?"
   ]
  },
  {
   "cell_type": "code",
   "execution_count": 3,
   "metadata": {},
   "outputs": [
    {
     "data": {
      "application/x-qsharp-data": "\"Success!\"",
      "text/plain": [
       "Success!"
      ]
     },
     "execution_count": 3,
     "metadata": {},
     "output_type": "execute_result"
    }
   ],
   "source": [
    "%kata T13_Oracle_Xor \n",
    "\n",
    "open Microsoft.Quantum.Arrays;\n",
    "\n",
    "operation Oracle_Xor (queryRegister : Qubit[], target : Qubit) : Unit is Adj {\n",
    "    for i in IndexRange(queryRegister) {\n",
    "        CNOT(queryRegister[i], target);\n",
    "    }\n",
    "}"
   ]
  },
  {
   "cell_type": "markdown",
   "metadata": {},
   "source": [
    "*Can't come up with a solution? See the explained solution in the [Solving SAT problem with Grover's algorithm Workbook](./Workbook_SolveSATWithGrover.ipynb#Task-1.3.-The-XOR-oracle:-$f(x)-=-x_0-\\oplus-x_1$).*"
   ]
  },
  {
   "cell_type": "markdown",
   "metadata": {},
   "source": [
    "### Task 1.4. Alternating bits oracle: $f(x) = (x_0 \\oplus x_1) \\wedge (x_1 \\oplus x_2) \\wedge \\dots \\wedge (x_{N-2} \\oplus x_{N-1})$\n",
    "\n",
    "**Inputs:** \n",
    "\n",
    "  1. N qubits in an arbitrary state $|x\\rangle$ (input/query register).\n",
    "\n",
    "  2. A qubit in an arbitrary state $|y\\rangle$ (target qubit).\n",
    "\n",
    "**Goal:**\n",
    "\n",
    "Transform state $|x,y\\rangle$ into state $|x, y \\oplus f(x)\\rangle$ ($\\oplus$ is addition modulo 2).\n",
    "\n",
    "Leave the query register in the same state it started in.\n",
    "\n",
    "> This oracle marks two states similar to the state explored in task 1.2 of the GroversAlgorithm kata: \n",
    "$|10101...\\rangle$ and $|01010...\\rangle$.  \n",
    "It is possible (and quite straightforward) to implement this oracle based on this observation; \n",
    "however, for the purposes of learning to write oracles to solve SAT problems we recommend using the representation above.\n",
    "\n",
    "<details>\n",
    "  <summary><b>Need a hint? Click here</b></summary>\n",
    "  Remember that you can use operations defined in previous tasks.\n",
    "</details>"
   ]
  },
  {
   "cell_type": "code",
   "execution_count": 4,
   "metadata": {},
   "outputs": [
    {
     "data": {
      "application/x-qsharp-data": "\"Success!\"",
      "text/plain": [
       "Success!"
      ]
     },
     "execution_count": 4,
     "metadata": {},
     "output_type": "execute_result"
    }
   ],
   "source": [
    "%kata T14_Oracle_AlternatingBits \n",
    "\n",
    "operation Oracle_AlternatingBits (queryRegister : Qubit[], target : Qubit) : Unit is Adj {\n",
    "    let len = Length(queryRegister);\n",
    "    \n",
    "    // Solution 1. Using N-1 extra qubits\n",
    "    //use q = Qubit[len-1];\n",
    "    //within{\n",
    "    //    for i in 0..len-2 {\n",
    "    //        CNOT(queryRegister[i], q[i]);\n",
    "    //        CNOT(queryRegister[i+1], q[i]);\n",
    "    //    }\n",
    "    //} apply {\n",
    "    //    ControlledOnInt(2^(len-1) - 1, X)(q, target);\n",
    "    //}    \n",
    "    \n",
    "    // Solution 2. Using secret tactics\n",
    "    //for i in 0..2..len-1 {\n",
    "    //    X(queryRegister[i]);\n",
    "    //}\n",
    "    //ControlledOnInt(0, X)(queryRegister, target);\n",
    "    //for i in 0..2..len-1 {\n",
    "    //    X(queryRegister[i]);\n",
    "    //}\n",
    "    \n",
    "    //for i in 1..2..len-1 {\n",
    "    //    X(queryRegister[i]);\n",
    "    //}\n",
    "    //ControlledOnInt(0, X)(queryRegister, target);\n",
    "    //for i in 1..2..len-1 {\n",
    "    //    X(queryRegister[i]);\n",
    "    //}\n",
    "    \n",
    "    // Solution 3. Optimal solution\n",
    "    within{\n",
    "        for i in 0..len-2 {\n",
    "            CNOT(queryRegister[i+1], queryRegister[i]);\n",
    "        }\n",
    "    } apply {\n",
    "        ControlledOnInt(2^(len-1)-1, X)(queryRegister[0..len-2], target);\n",
    "    }\n",
    "    \n",
    "}"
   ]
  },
  {
   "cell_type": "markdown",
   "metadata": {},
   "source": [
    "\n",
    "*Can't come up with a solution? See the explained solution in the [Solving SAT problem with Grover's algorithm Workbook](./Workbook_SolveSATWithGrover.ipynb#Task-1.4.-Alternating-bits-oracle:-$f(x)-=-(x_0-\\oplus-x_1)-\\wedge-(x_1-\\oplus-x_2)-\\wedge-\\dots-\\wedge-(x_{N-2}-\\oplus-x_{N-1})$).*"
   ]
  },
  {
   "cell_type": "markdown",
   "metadata": {},
   "source": [
    "### Task 1.5. Evaluate one clause of a SAT formula\n",
    "\n",
    "> For SAT problems, $f(x)$ is represented as a conjunction (an AND operation) of several clauses on $N$ variables,\n",
    "and each clause is a disjunction (an OR operation) of **one or several** variables or negated variables:\n",
    ">\n",
    "> $$clause(x) = \\bigvee_k y_{k},\\text{ where }y_{k} =\\text{ either }x_j\\text{ or }\\neg x_j\\text{ for some }j \\in \\{0, \\dots, N-1\\}$$\n",
    ">\n",
    "> For example, one of the possible clauses on two variables is:\n",
    ">\n",
    "> $$clause(x) = x_0 \\vee \\neg x_1$$\n",
    "\n",
    "**Inputs:**\n",
    "\n",
    "  1. N qubits in an arbitrary state $|x\\rangle$ (input/query register).\n",
    "\n",
    "  2. A qubit in an arbitrary state $|y\\rangle$ (target qubit).\n",
    "\n",
    "  3. A 1-dimensional array of tuples `clause` which describes one clause of a SAT problem instance $clause(x)$.\n",
    "\n",
    "`clause` is an array of one or more tuples, each of them describing one component of the clause.\n",
    "\n",
    "Each tuple is an `(Int, Bool)` pair:\n",
    "\n",
    "* the first element is the index $j$ of the variable $x_j$, \n",
    "* the second element is `true` if the variable is included as itself ($x_j$) and `false` if it is included as a negation ($\\neg x_j$).\n",
    "\n",
    "**Example:**\n",
    "\n",
    "* The clause $x_0 \\vee \\neg x_1$ can be represented as `[(0, true), (1, false)]`.\n",
    "\n",
    "**Goal:**\n",
    "\n",
    "Transform state $|x,y\\rangle$ into state $|x, y \\oplus f(x)\\rangle$ ($\\oplus$ is addition modulo 2).\n",
    "\n",
    "Leave the query register in the same state it started in."
   ]
  },
  {
   "cell_type": "code",
   "execution_count": 5,
   "metadata": {},
   "outputs": [
    {
     "data": {
      "application/x-qsharp-data": "[\"extractUsedQubits\"]",
      "text/html": [
       "<ul><li>extractUsedQubits</li></ul>"
      ],
      "text/plain": [
       "extractUsedQubits"
      ]
     },
     "execution_count": 5,
     "metadata": {},
     "output_type": "execute_result"
    }
   ],
   "source": [
    "function extractUsedQubits(q : Qubit[], clause : (Int, Bool)[]) : Qubit[] {\n",
    "    mutable qs = [];\n",
    "    for (idx, _) in clause {\n",
    "        set qs += [q[idx]];\n",
    "    }\n",
    "    \n",
    "    return qs;\n",
    "}"
   ]
  },
  {
   "cell_type": "code",
   "execution_count": 6,
   "metadata": {},
   "outputs": [
    {
     "name": "stdout",
     "output_type": "stream",
     "text": [
      "Testing SAT clause instance x3...\n",
      "Testing SAT clause instance ¬x3 ∨ x2...\n",
      "Testing SAT clause instance x4 ∨ x5 ∨ x2...\n",
      "Testing SAT clause instance x1 ∨ x4 ∨ ¬x2 ∨ ¬x3...\n",
      "Testing SAT clause instance x2 ∨ x1 ∨ x0...\n",
      "Testing SAT clause instance x5 ∨ x3 ∨ x1 ∨ ¬x2 ∨ ¬x0 ∨ ¬x4...\n",
      "Testing SAT clause instance ¬x2 ∨ x1 ∨ ¬x0 ∨ ¬x6 ∨ x4 ∨ ¬x5 ∨ ¬x3...\n",
      "Testing SAT clause instance x0 ∨ x2 ∨ x1...\n",
      "Testing SAT clause instance x2 ∨ x0 ∨ x5 ∨ ¬x1 ∨ ¬x3 ∨ ¬x4...\n",
      "Testing SAT clause instance x1 ∨ ¬x3 ∨ x0 ∨ x4 ∨ ¬x2...\n"
     ]
    },
    {
     "data": {
      "application/x-qsharp-data": "\"Success!\"",
      "text/plain": [
       "Success!"
      ]
     },
     "execution_count": 6,
     "metadata": {},
     "output_type": "execute_result"
    }
   ],
   "source": [
    "%kata T15_Oracle_SATClause \n",
    "\n",
    "operation Oracle_SATClause (queryRegister : Qubit[], target : Qubit, clause : (Int, Bool)[]) : Unit is Adj {\n",
    "    for (idx, isItself) in clause {\n",
    "        if not isItself {\n",
    "            X(queryRegister[idx]);\n",
    "        }\n",
    "    }\n",
    "    let clauseQ = extractUsedQubits(queryRegister, clause);\n",
    "\n",
    "    X(target);\n",
    "    ControlledOnInt(0, X)(clauseQ, target);\n",
    "        \n",
    "    for (idx, isItself) in clause {\n",
    "        if not isItself {\n",
    "            X(queryRegister[idx]);\n",
    "        }\n",
    "    }\n",
    "}"
   ]
  },
  {
   "cell_type": "code",
   "execution_count": 7,
   "metadata": {},
   "outputs": [
    {
     "name": "stdout",
     "output_type": "stream",
     "text": [
      "Testing SAT clause instance x0...\n",
      "Testing SAT clause instance ¬x2 ∨ x0...\n",
      "Testing SAT clause instance x2 ∨ x1 ∨ x0...\n",
      "Testing SAT clause instance ¬x0 ∨ x1 ∨ x2...\n",
      "Testing SAT clause instance ¬x1 ∨ ¬x3 ∨ x0 ∨ ¬x4 ∨ x2...\n",
      "Testing SAT clause instance x4 ∨ x3 ∨ x2 ∨ ¬x1 ∨ ¬x0...\n",
      "Testing SAT clause instance ¬x0 ∨ ¬x2 ∨ x1...\n",
      "Testing SAT clause instance x2 ∨ ¬x1 ∨ ¬x3 ∨ x0...\n",
      "Testing SAT clause instance x4 ∨ ¬x2 ∨ ¬x5 ∨ x3 ∨ ¬x0 ∨ x1...\n",
      "Testing SAT clause instance ¬x2 ∨ x0 ∨ x3 ∨ x1...\n"
     ]
    },
    {
     "data": {
      "application/x-qsharp-data": "\"Success!\"",
      "text/plain": [
       "Success!"
      ]
     },
     "execution_count": 7,
     "metadata": {},
     "output_type": "execute_result"
    }
   ],
   "source": [
    "%kata T15_Oracle_SATClause \n",
    "\n",
    "open Microsoft.Quantum.Diagnostics;\n",
    "\n",
    "operation Oracle_SATClause (queryRegister : Qubit[], target : Qubit, clause : (Int, Bool)[]) : Unit is Adj {\n",
    "    let len = Length(queryRegister);\n",
    "    use q = Qubit[len];\n",
    "    \n",
    "    within {        \n",
    "        for i in IndexRange(clause) {\n",
    "            let (idx, notNegation) = clause[i];\n",
    "            \n",
    "            if not notNegation {\n",
    "                X(q[idx]);\n",
    "            }\n",
    "            CNOT(queryRegister[idx], q[idx]);\n",
    "        }\n",
    "    } apply {\n",
    "        X(target);\n",
    "        ControlledOnInt(0, X)(q, target);\n",
    "    }\n",
    "    \n",
    "}"
   ]
  },
  {
   "cell_type": "markdown",
   "metadata": {},
   "source": [
    "*Can't come up with a solution? See the explained solution in the [Solving SAT problem with Grover's algorithm Workbook](./Workbook_SolveSATWithGrover.ipynb#Task-1.5.-Evaluate-one-clause-of-a-SAT-formula).*"
   ]
  },
  {
   "cell_type": "markdown",
   "metadata": {},
   "source": [
    "### Task 1.6. k-SAT problem oracle\n",
    "\n",
    "> For k-SAT problems, $f(x)$ is represented as a conjunction (an AND operation) of $M$ clauses on $N$ variables,\n",
    "and each clause is a disjunction (an OR operation) of **one or several** variables or negated variables:\n",
    ">\n",
    "> $$f(x) = \\bigwedge_i \\big(\\bigvee_k y_{ik} \\big),\\text{ where }y_{ik} =\\text{ either }x_j\\text{ or }\\neg x_j\\text{ for some }j \\in \\{0, \\dots, N-1\\}$$\n",
    "\n",
    "**Inputs:**\n",
    "\n",
    "  1. N qubits in an arbitrary state $|x\\rangle$ (input/query register).\n",
    "\n",
    "  2. A qubit in an arbitrary state $|y\\rangle$ (target qubit).\n",
    "\n",
    "  3. A 2-dimensional array of tuples `problem` which describes the k-SAT problem instance $f(x)$.\n",
    "\n",
    "$i$-th element of `problem` describes the $i$-th clause of $f(x)$; \n",
    "it is an array of one or more tuples, each of them describing one component of the clause.\n",
    "\n",
    "Each tuple is an `(Int, Bool)` pair:\n",
    "\n",
    "* the first element is the index $j$ of the variable $x_j$, \n",
    "* the second element is `true` if the variable is included as itself ($x_j$) and `false` if it is included as a negation ($\\neg x_j$).\n",
    "\n",
    "**Example:**\n",
    "\n",
    "A more general case of the OR oracle for 3 variables $f(x) = (x_0 \\vee x_1 \\vee x_2)$ can be represented as `[[(0, true), (1, true), (2, true)]]`.\n",
    "\n",
    "**Goal:**\n",
    "\n",
    "Transform state $|x,y\\rangle$ into state $|x, y \\oplus f(x)\\rangle$ ($\\oplus$ is addition modulo 2).\n",
    "\n",
    "Leave the query register in the same state it started in."
   ]
  },
  {
   "cell_type": "code",
   "execution_count": 8,
   "metadata": {},
   "outputs": [
    {
     "name": "stdout",
     "output_type": "stream",
     "text": [
      "Testing 2-SAT instance (2, (x0 ∨ x1))...\n",
      "Testing k-SAT instance (6, (x4 ∨ x2 ∨ ¬x3 ∨ ¬x0) ∧ (¬x1) ∧ (¬x3 ∨ ¬x5 ∨ x1) ∧ (x2 ∨ ¬x3) ∧ (x2 ∨ ¬x4 ∨ ¬x0 ∨ ¬x3))...\n"
     ]
    },
    {
     "data": {
      "application/x-qsharp-data": "\"Success!\"",
      "text/plain": [
       "Success!"
      ]
     },
     "execution_count": 8,
     "metadata": {},
     "output_type": "execute_result"
    }
   ],
   "source": [
    "%kata T16_Oracle_SAT \n",
    "\n",
    "operation Oracle_SAT (queryRegister : Qubit[], target : Qubit, problem : (Int, Bool)[][]) : Unit is Adj {\n",
    "    let len = Length(problem);\n",
    "    use q = Qubit[len];\n",
    "    within {\n",
    "        for i in IndexRange(problem) {\n",
    "            let clause = problem[i];\n",
    "            Oracle_SATClause(queryRegister, q[i], clause);\n",
    "        }\n",
    "    } apply {\n",
    "        ControlledOnInt(2^len - 1, X)(q, target);\n",
    "    }\n",
    "}"
   ]
  },
  {
   "cell_type": "markdown",
   "metadata": {},
   "source": [
    "*Can't come up with a solution? See the explained solution in the [Solving SAT problem with Grover's algorithm Workbook](./Workbook_SolveSATWithGrover.ipynb#Task-1.6.-k-SAT-problem-oracle).*"
   ]
  },
  {
   "cell_type": "markdown",
   "metadata": {},
   "source": [
    "## Part II. Oracles for exactly-1 3-SAT problem\n",
    "\n",
    "Exactly-1 3-SAT problem (also known as \"one-in-three 3-SAT\") is a variant of a general 3-SAT problem.\n",
    "It has a structure similar to a 3-SAT problem, but each clause must have *exactly one* true literal, \n",
    "while in a normal 3-SAT problem each clause must have *at least one* true literal."
   ]
  },
  {
   "cell_type": "markdown",
   "metadata": {},
   "source": [
    "### Task 2.1. \"Exactly one $|1\\rangle$\" oracle\n",
    "\n",
    "**Inputs:** \n",
    "\n",
    "  1. 3 qubits in an arbitrary state $|x\\rangle$ (input/query register).\n",
    "\n",
    "  2. A qubit in an arbitrary state $|y\\rangle$ (target qubit).\n",
    "\n",
    "**Goal:** \n",
    "\n",
    "Transform state $|x,y\\rangle$ into state $|x, y \\oplus f(x)\\rangle$ ($\\oplus$ is addition modulo 2), \n",
    "where $f(x) = 1$ if exactly one bit of $x$ is in the $|1\\rangle$ state, and $0$ otherwise.\n",
    "\n",
    "Leave the query register in the same state it started in.\n",
    "\n",
    "**Stretch Goal:** \n",
    "\n",
    "Can you implement the oracle so that it would work \n",
    "for `queryRegister` containing an arbitrary number of qubits?"
   ]
  },
  {
   "cell_type": "code",
   "execution_count": 9,
   "metadata": {},
   "outputs": [
    {
     "data": {
      "application/x-qsharp-data": "\"Success!\"",
      "text/plain": [
       "Success!"
      ]
     },
     "execution_count": 9,
     "metadata": {},
     "output_type": "execute_result"
    }
   ],
   "source": [
    "%kata T21_Oracle_Exactly1One \n",
    "\n",
    "operation Oracle_Exactly1One (queryRegister : Qubit[], target : Qubit) : Unit is Adj {\n",
    "    for q in queryRegister {\n",
    "        X(q);\n",
    "        ControlledOnInt(0, X)(queryRegister, target);\n",
    "        X(q);\n",
    "    }\n",
    "}"
   ]
  },
  {
   "cell_type": "markdown",
   "metadata": {},
   "source": [
    "*Can't come up with a solution? See the explained solution in the [Solve SAT problem with Grover's algorithm Workbook](./Workbook_SolveSATWithGrover.ipynb#Task-2.1.-\"Exactly-one-$|1\\rangle$\"-oracle).*"
   ]
  },
  {
   "cell_type": "markdown",
   "metadata": {},
   "source": [
    "### Task 2.2. \"Exactly-1 3-SAT\" oracle\n",
    "\n",
    "**Inputs:**\n",
    "\n",
    "  1. N qubits in an arbitrary state $|x\\rangle$ (input/query register).\n",
    "\n",
    "  2. A qubit in an arbitrary state $|y\\rangle$ (target qubit).\n",
    "\n",
    "  3. A 2-dimensional array of tuples `problem` which describes the 3-SAT problem instance $f(x)$.\n",
    "\n",
    "`problem` describes the problem instance in the same format as in task 1.6;\n",
    "each clause of the formula is guaranteed to have exactly 3 terms.\n",
    "\n",
    "**Goal:**\n",
    "\n",
    "Transform state $|x,y\\rangle$ into state $|x, y \\oplus f(x)\\rangle$ ($\\oplus$ is addition modulo 2).\n",
    "\n",
    "Leave the query register in the same state it started in.\n",
    "\n",
    "**Example:**\n",
    "\n",
    "An instance of the problem $f(x) = (x_0 \\vee x_1 \\vee x_2)$ can be represented as `[[(0, true), (1, true), (2, true)]]`,\n",
    "and its solutions will be `(true, false, false)`, `(false, true, false)` and `(false, false, true)`, \n",
    "but none of the variable assignments in which more than one variable is true, which are solutions for the general SAT problem.\n",
    "\n",
    "<br/>\n",
    "<details>\n",
    "  <summary><b>Need a hint? Click here</b></summary>\n",
    "  Can you reuse parts of the code in section 1?\n",
    "</details>"
   ]
  },
  {
   "cell_type": "code",
   "execution_count": 10,
   "metadata": {},
   "outputs": [
    {
     "data": {
      "application/x-qsharp-data": "[\"extractUsedQubits\"]",
      "text/html": [
       "<ul><li>extractUsedQubits</li></ul>"
      ],
      "text/plain": [
       "extractUsedQubits"
      ]
     },
     "execution_count": 10,
     "metadata": {},
     "output_type": "execute_result"
    }
   ],
   "source": [
    "function extractUsedQubits(q : Qubit[], clause : (Int, Bool)[]) : Qubit[] {\n",
    "    mutable qs = [];\n",
    "    for (idx, _) in clause {\n",
    "        set qs += [q[idx]];\n",
    "    }\n",
    "    \n",
    "    return qs;\n",
    "}"
   ]
  },
  {
   "cell_type": "code",
   "execution_count": 13,
   "metadata": {},
   "outputs": [
    {
     "name": "stdout",
     "output_type": "stream",
     "text": [
      "Testing exactly-1 3-SAT instance (2, (x0 ∨ ¬x1))...\n",
      "Testing exactly-1 3-SAT instance (3, (¬x0 ∨ ¬x2 ∨ ¬x1) ∧ (x0 ∨ ¬x2 ∨ ¬x1))...\n",
      "Testing exactly-1 3-SAT instance (4, (¬x1 ∨ x2 ∨ ¬x0) ∧ (¬x3 ∨ ¬x1 ∨ x2) ∧ (¬x0 ∨ ¬x1 ∨ ¬x2))...\n",
      "Testing exactly-1 3-SAT instance (5, (x1 ∨ ¬x3 ∨ x0) ∧ (¬x3 ∨ ¬x2 ∨ ¬x4) ∧ (¬x2 ∨ ¬x1 ∨ ¬x4) ∧ (¬x3 ∨ x1 ∨ x0))...\n",
      "Testing exactly-1 3-SAT instance (6, (¬x1 ∨ ¬x3 ∨ ¬x5) ∧ (x4 ∨ x5 ∨ ¬x0) ∧ (¬x4 ∨ ¬x2 ∨ x0) ∧ (¬x2 ∨ ¬x5 ∨ x1) ∧ (x3 ∨ x5 ∨ ¬x0))...\n"
     ]
    },
    {
     "data": {
      "application/x-qsharp-data": "\"Success!\"",
      "text/plain": [
       "Success!"
      ]
     },
     "execution_count": 13,
     "metadata": {},
     "output_type": "execute_result"
    }
   ],
   "source": [
    "%kata T22_Oracle_Exactly1SAT \n",
    "\n",
    "operation Oracle_Exactly1_3SAT (queryRegister : Qubit[], \n",
    "                                target : Qubit, \n",
    "                                problem : (Int, Bool)[][]) : Unit is Adj {\n",
    "    let len = Length(problem);\n",
    "    use q = Qubit[len];\n",
    "    \n",
    "    within {\n",
    "        for i in IndexRange(problem) {\n",
    "            let clause = problem[i];\n",
    "            let clauseQubits = extractUsedQubits(queryRegister, clause);\n",
    "\n",
    "            within {\n",
    "                for (idx, isItself) in clause {\n",
    "                    if not isItself {\n",
    "                        X(queryRegister[idx]);\n",
    "                    }\n",
    "                }\n",
    "            } apply {\n",
    "                for excludeQubit in clauseQubits {\n",
    "                    X(excludeQubit);\n",
    "                    ControlledOnInt(0, X)(clauseQubits, q[i]);\n",
    "                    X(excludeQubit);\n",
    "                }\n",
    "            }\n",
    "            \n",
    "        }\n",
    "    } apply {\n",
    "        ControlledOnInt(2^len-1, X)(q, target);\n",
    "    }\n",
    "}"
   ]
  },
  {
   "cell_type": "markdown",
   "metadata": {},
   "source": [
    "*Can't come up with a solution? See the explained solution in the [Solve SAT problem with Grover's algorithm Workbook](./Workbook_SolveSATWithGrover.ipynb#Task-2.2.-\"Exactly-1-3-SAT\"-oracle).*"
   ]
  },
  {
   "cell_type": "markdown",
   "metadata": {},
   "source": [
    "## Part III. Using Grover's algorithm for problems with multiple solutions"
   ]
  },
  {
   "cell_type": "markdown",
   "metadata": {},
   "source": [
    "### Task 3.1. Using Grover's algorithm\n",
    "\n",
    "**Goal:**\n",
    "\n",
    "Implement Grover's algorithm and use it to find solutions to SAT instances from parts I and II. \n",
    "\n",
    "> If you want to learn the Grover's algorithm itself, try doing [GroversAlgorithm kata](./../GroversAlgorithm/GroversAlgorithm.ipynb) first.\n",
    "\n",
    "> This is an open-ended task, and is not covered by a unit test. To run the code, execute the cell with the definition of the `Run_GroversSearch_Algorithm` operation first; if it compiled successfully without any errors, you can run the operation by executing the next cell (`%simulate Run_GroversSearch_Algorithm`).\n",
    "\n",
    "> Note that this task relies on your implementations of the previous tasks. If you are getting the \"No variable with that name exists.\" error, you might have to execute previous code cells before retrying this task.\n",
    "\n",
    "<details>\n",
    "  <summary><b>Need a hint? Click here</b></summary>\n",
    "Experiment with SAT instances with different number of solutions and the number of algorithm iterations \n",
    "to see how the probability of the algorithm finding the correct answer changes depending on these two factors.\n",
    "\n",
    "For example, \n",
    "* the AND oracle from task 1.1 has exactly one solution,\n",
    "* the alternating bits oracle from task 1.4 has exactly two solutions,\n",
    "* the OR oracle from task 1.2 for 2 qubits has exactly 3 solutions, and so on.\n",
    "</details>"
   ]
  },
  {
   "cell_type": "code",
   "execution_count": 46,
   "metadata": {},
   "outputs": [
    {
     "data": {
      "application/x-qsharp-data": "[\"ConditionalPhaseFlip\"]",
      "text/html": [
       "<ul><li>ConditionalPhaseFlip</li></ul>"
      ],
      "text/plain": [
       "ConditionalPhaseFlip"
      ]
     },
     "execution_count": 46,
     "metadata": {},
     "output_type": "execute_result"
    }
   ],
   "source": [
    "operation ConditionalPhaseFlip (register : Qubit[]) : Unit is Adj {\n",
    "    let N = Length(register);\n",
    "    X(register[N-1]);\n",
    "    ControlledOnInt(0, Z)(register[0..N-2], register[N-1]);\n",
    "    X(register[N-1]);\n",
    "}"
   ]
  },
  {
   "cell_type": "code",
   "execution_count": 36,
   "metadata": {},
   "outputs": [
    {
     "data": {
      "application/x-qsharp-data": "[\"Run_GroversSearch_Algorithm\"]",
      "text/html": [
       "<ul><li>Run_GroversSearch_Algorithm</li></ul>"
      ],
      "text/plain": [
       "Run_GroversSearch_Algorithm"
      ]
     },
     "execution_count": 36,
     "metadata": {},
     "output_type": "execute_result"
    }
   ],
   "source": [
    "open Microsoft.Quantum.Math;\n",
    "open Microsoft.Quantum.Measurement;\n",
    "open Microsoft.Quantum.Random;\n",
    "open Microsoft.Quantum.Convert;\n",
    "\n",
    "operation Run_GroversSearch_Algorithm () : Unit { \n",
    "    // Write down your oracle and amoun of qubits here\n",
    "    let N = 3;\n",
    "    let oracul = Oracle_SAT(_, _, [[(0, true), (1, true)], \n",
    "                                  [(0, false), (1, false)], \n",
    "                                  [(1, true), (2, true)], \n",
    "                                  [(1, false), (2, false)]]);\n",
    "    \n",
    "    \n",
    "    use (x, y) = (Qubit[N], Qubit());\n",
    "    use testQubit = Qubit();\n",
    "    \n",
    "    mutable testResult = Zero;\n",
    "    mutable ans = [];\n",
    "    \n",
    "    X(y);\n",
    "    H(y);\n",
    "    \n",
    "    let maxIterations = Truncate(PI() / 4.0 * Sqrt(IntAsDouble(N)))+1;\n",
    "    \n",
    "    repeat {\n",
    "        ApplyToEach(H, x);\n",
    "        \n",
    "        let hmIterations = DrawRandomInt(1, maxIterations);\n",
    "        for i in 1..hmIterations {\n",
    "            oracul(x, y);\n",
    "            ApplyToEach(H, x);\n",
    "            ConditionalPhaseFlip(x);\n",
    "            ApplyToEach(H, x);\n",
    "        }\n",
    "        \n",
    "        set ans = ResultArrayAsBoolArray(MultiM(x));\n",
    "        oracul(x, testQubit);\n",
    "        set testResult = M(testQubit);\n",
    "    } until testResult == One\n",
    "    fixup {\n",
    "        ResetAll(x + [testQubit]);\n",
    "    }\n",
    "    \n",
    "    ResetAll(x + [y, testQubit]);\n",
    "    Message($\"The answer is {ans}\");\n",
    "}"
   ]
  },
  {
   "cell_type": "code",
   "execution_count": 45,
   "metadata": {},
   "outputs": [
    {
     "name": "stdout",
     "output_type": "stream",
     "text": [
      "The answer is [True,False,True]\n"
     ]
    },
    {
     "data": {
      "application/x-qsharp-data": "{\"@type\":\"tuple\"}",
      "text/plain": [
       "()"
      ]
     },
     "execution_count": 45,
     "metadata": {},
     "output_type": "execute_result"
    }
   ],
   "source": [
    "%simulate Run_GroversSearch_Algorithm"
   ]
  },
  {
   "cell_type": "markdown",
   "metadata": {},
   "source": [
    "*Can't come up with a solution? See the explained solution in the [Solve SAT problem with Grover's algorithm Workbook](./Workbook_SolveSATWithGrover.ipynb#Task-3.1.-Using-Grover's-algorithm).*"
   ]
  },
  {
   "cell_type": "markdown",
   "metadata": {},
   "source": [
    "### Task 3.2. Universal implementation of Grover's algorithm\n",
    "\n",
    "**Inputs:**\n",
    "\n",
    "  1. The number of qubits N.\n",
    "\n",
    "  2. A marking oracle which implements a boolean expression, similar to the oracles from part I.\n",
    "\n",
    "**Output:**\n",
    "\n",
    "An array of N boolean values which satisfy the expression implemented by the oracle \n",
    "(i.e., any basis state marked by the oracle).\n",
    "\n",
    "> Note that the similar task in the [GroversAlgorithm kata](./../GroversAlgorithm/GroversAlgorithm.ipynb) required you to implement Grover's algorithm \n",
    "in a way that would be robust to accidental failures, but you knew the optimal number of iterations \n",
    "(the number that minimized the probability of such failure).\n",
    "> \n",
    "> In this task you also need to make your implementation robust to not knowing the optimal number of iterations.\n",
    "> You can see an example of doing that in [Exploring Grover's Algorithm tutorial](./../tutorials/ExploringGroversAlgorithm/ExploringGroversAlgorithm.ipynb)."
   ]
  },
  {
   "cell_type": "code",
   "execution_count": 14,
   "metadata": {},
   "outputs": [
    {
     "data": {
      "application/x-qsharp-data": "[\"ConditionalPhaseFlip\"]",
      "text/html": [
       "<ul><li>ConditionalPhaseFlip</li></ul>"
      ],
      "text/plain": [
       "ConditionalPhaseFlip"
      ]
     },
     "execution_count": 14,
     "metadata": {},
     "output_type": "execute_result"
    }
   ],
   "source": [
    "operation ConditionalPhaseFlip (register : Qubit[]) : Unit is Adj {\n",
    "    let N = Length(register);\n",
    "    X(register[N-1]);\n",
    "    ControlledOnInt(0, Z)(register[0..N-2], register[N-1]);\n",
    "    X(register[N-1]);\n",
    "}"
   ]
  },
  {
   "cell_type": "code",
   "execution_count": 26,
   "metadata": {
    "tags": [
     "timeout"
    ]
   },
   "outputs": [
    {
     "name": "stdout",
     "output_type": "stream",
     "text": [
      "The number of iterations would be from 1 to 2\n",
      "The number of iterations would be from 1 to 2\n",
      "The number of iterations would be from 1 to 2\n",
      "The number of iterations would be from 1 to 2\n",
      "The number of iterations would be from 1 to 2\n"
     ]
    },
    {
     "data": {
      "application/x-qsharp-data": "\"Success!\"",
      "text/plain": [
       "Success!"
      ]
     },
     "execution_count": 26,
     "metadata": {},
     "output_type": "execute_result"
    }
   ],
   "source": [
    "%kata T32_UniversalGroversAlgorithm \n",
    "\n",
    "open Microsoft.Quantum.Math;\n",
    "open Microsoft.Quantum.Measurement;\n",
    "open Microsoft.Quantum.Random;\n",
    "open Microsoft.Quantum.Convert;\n",
    "\n",
    "operation UniversalGroversAlgorithm (N : Int, oracle : ((Qubit[], Qubit) => Unit is Adj)) : Bool[] {  \n",
    "    use (x, y) = (Qubit[N], Qubit());\n",
    "    use checkQubit = Qubit();\n",
    "    mutable checkValue = Zero;\n",
    "    mutable result = [];\n",
    "    X(y);\n",
    "    H(y);\n",
    "    \n",
    "    let upperIterationsBound = Truncate(PI() / 4.0 * Sqrt(IntAsDouble(N)))+1;\n",
    "    Message($\"The number of iterations would be from 1 to {upperIterationsBound}\");\n",
    "    \n",
    "    repeat {\n",
    "        ApplyToEach(H, x);\n",
    "        let hmIterations = DrawRandomInt(1, upperIterationsBound);\n",
    "        \n",
    "        for i in 1..hmIterations {\n",
    "            oracle(x, y);\n",
    "        \n",
    "            ApplyToEach(H, x);\n",
    "            ConditionalPhaseFlip(x);\n",
    "            ApplyToEach(H, x);\n",
    "        }\n",
    "        \n",
    "        set result = ResultArrayAsBoolArray(MultiM(x));\n",
    "        oracle(x, checkQubit);\n",
    "        set checkValue = M(checkQubit);\n",
    "    } until checkValue == One\n",
    "    fixup {\n",
    "        ResetAll(x + [checkQubit]);\n",
    "    }\n",
    "    \n",
    "    ResetAll(x + [checkQubit] + [y]);\n",
    "    return result;\n",
    "}"
   ]
  },
  {
   "cell_type": "markdown",
   "metadata": {},
   "source": [
    "*Can't come up with a solution? See the explained solution in the [Solve SAT problem with Grover's algorithm Workbook](./Workbook_SolveSATWithGrover.ipynb#Task-3.2.-Universal-implementation-of-Grover's-algorithm).*"
   ]
  }
 ],
 "metadata": {
  "kernelspec": {
   "display_name": "Q#",
   "language": "qsharp",
   "name": "iqsharp"
  },
  "language_info": {
   "file_extension": ".qs",
   "mimetype": "text/x-qsharp",
   "name": "qsharp",
   "version": "0.14"
  }
 },
 "nbformat": 4,
 "nbformat_minor": 2
}
